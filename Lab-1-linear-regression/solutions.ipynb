{
  "nbformat": 4,
  "nbformat_minor": 0,
  "metadata": {
    "colab": {
      "provenance": []
    },
    "kernelspec": {
      "name": "python3",
      "display_name": "Python 3"
    },
    "language_info": {
      "name": "python"
    }
  },
  "cells": [
    {
      "cell_type": "code",
      "execution_count": null,
      "metadata": {
        "id": "RCvEX3Xj4-v9"
      },
      "outputs": [],
      "source": [
        "import numpy as np\n",
        "import pandas as pd\n",
        "import matplotlib.pyplot as plt\n",
        "import os\n",
        "path = os.getcwd() + '/ex1data1.txt'\n",
        "data = pd.read_csv(path, header=None, names=['Population', 'Profit'])"
      ]
    },
    {
      "cell_type": "code",
      "source": [
        "data.head()"
      ],
      "metadata": {
        "colab": {
          "base_uri": "https://localhost:8080/",
          "height": 206
        },
        "id": "ij5iTO-J52pW",
        "outputId": "750f316c-c9fb-45e0-a683-fea3db54bd3b"
      },
      "execution_count": null,
      "outputs": [
        {
          "output_type": "execute_result",
          "data": {
            "text/plain": [
              "   Population   Profit\n",
              "0      6.1101  17.5920\n",
              "1      5.5277   9.1302\n",
              "2      8.5186  13.6620\n",
              "3      7.0032  11.8540\n",
              "4      5.8598   6.8233"
            ],
            "text/html": [
              "\n",
              "  <div id=\"df-f81beef5-4a19-4f9d-863a-b29859fd513b\">\n",
              "    <div class=\"colab-df-container\">\n",
              "      <div>\n",
              "<style scoped>\n",
              "    .dataframe tbody tr th:only-of-type {\n",
              "        vertical-align: middle;\n",
              "    }\n",
              "\n",
              "    .dataframe tbody tr th {\n",
              "        vertical-align: top;\n",
              "    }\n",
              "\n",
              "    .dataframe thead th {\n",
              "        text-align: right;\n",
              "    }\n",
              "</style>\n",
              "<table border=\"1\" class=\"dataframe\">\n",
              "  <thead>\n",
              "    <tr style=\"text-align: right;\">\n",
              "      <th></th>\n",
              "      <th>Population</th>\n",
              "      <th>Profit</th>\n",
              "    </tr>\n",
              "  </thead>\n",
              "  <tbody>\n",
              "    <tr>\n",
              "      <th>0</th>\n",
              "      <td>6.1101</td>\n",
              "      <td>17.5920</td>\n",
              "    </tr>\n",
              "    <tr>\n",
              "      <th>1</th>\n",
              "      <td>5.5277</td>\n",
              "      <td>9.1302</td>\n",
              "    </tr>\n",
              "    <tr>\n",
              "      <th>2</th>\n",
              "      <td>8.5186</td>\n",
              "      <td>13.6620</td>\n",
              "    </tr>\n",
              "    <tr>\n",
              "      <th>3</th>\n",
              "      <td>7.0032</td>\n",
              "      <td>11.8540</td>\n",
              "    </tr>\n",
              "    <tr>\n",
              "      <th>4</th>\n",
              "      <td>5.8598</td>\n",
              "      <td>6.8233</td>\n",
              "    </tr>\n",
              "  </tbody>\n",
              "</table>\n",
              "</div>\n",
              "      <button class=\"colab-df-convert\" onclick=\"convertToInteractive('df-f81beef5-4a19-4f9d-863a-b29859fd513b')\"\n",
              "              title=\"Convert this dataframe to an interactive table.\"\n",
              "              style=\"display:none;\">\n",
              "        \n",
              "  <svg xmlns=\"http://www.w3.org/2000/svg\" height=\"24px\"viewBox=\"0 0 24 24\"\n",
              "       width=\"24px\">\n",
              "    <path d=\"M0 0h24v24H0V0z\" fill=\"none\"/>\n",
              "    <path d=\"M18.56 5.44l.94 2.06.94-2.06 2.06-.94-2.06-.94-.94-2.06-.94 2.06-2.06.94zm-11 1L8.5 8.5l.94-2.06 2.06-.94-2.06-.94L8.5 2.5l-.94 2.06-2.06.94zm10 10l.94 2.06.94-2.06 2.06-.94-2.06-.94-.94-2.06-.94 2.06-2.06.94z\"/><path d=\"M17.41 7.96l-1.37-1.37c-.4-.4-.92-.59-1.43-.59-.52 0-1.04.2-1.43.59L10.3 9.45l-7.72 7.72c-.78.78-.78 2.05 0 2.83L4 21.41c.39.39.9.59 1.41.59.51 0 1.02-.2 1.41-.59l7.78-7.78 2.81-2.81c.8-.78.8-2.07 0-2.86zM5.41 20L4 18.59l7.72-7.72 1.47 1.35L5.41 20z\"/>\n",
              "  </svg>\n",
              "      </button>\n",
              "      \n",
              "  <style>\n",
              "    .colab-df-container {\n",
              "      display:flex;\n",
              "      flex-wrap:wrap;\n",
              "      gap: 12px;\n",
              "    }\n",
              "\n",
              "    .colab-df-convert {\n",
              "      background-color: #E8F0FE;\n",
              "      border: none;\n",
              "      border-radius: 50%;\n",
              "      cursor: pointer;\n",
              "      display: none;\n",
              "      fill: #1967D2;\n",
              "      height: 32px;\n",
              "      padding: 0 0 0 0;\n",
              "      width: 32px;\n",
              "    }\n",
              "\n",
              "    .colab-df-convert:hover {\n",
              "      background-color: #E2EBFA;\n",
              "      box-shadow: 0px 1px 2px rgba(60, 64, 67, 0.3), 0px 1px 3px 1px rgba(60, 64, 67, 0.15);\n",
              "      fill: #174EA6;\n",
              "    }\n",
              "\n",
              "    [theme=dark] .colab-df-convert {\n",
              "      background-color: #3B4455;\n",
              "      fill: #D2E3FC;\n",
              "    }\n",
              "\n",
              "    [theme=dark] .colab-df-convert:hover {\n",
              "      background-color: #434B5C;\n",
              "      box-shadow: 0px 1px 3px 1px rgba(0, 0, 0, 0.15);\n",
              "      filter: drop-shadow(0px 1px 2px rgba(0, 0, 0, 0.3));\n",
              "      fill: #FFFFFF;\n",
              "    }\n",
              "  </style>\n",
              "\n",
              "      <script>\n",
              "        const buttonEl =\n",
              "          document.querySelector('#df-f81beef5-4a19-4f9d-863a-b29859fd513b button.colab-df-convert');\n",
              "        buttonEl.style.display =\n",
              "          google.colab.kernel.accessAllowed ? 'block' : 'none';\n",
              "\n",
              "        async function convertToInteractive(key) {\n",
              "          const element = document.querySelector('#df-f81beef5-4a19-4f9d-863a-b29859fd513b');\n",
              "          const dataTable =\n",
              "            await google.colab.kernel.invokeFunction('convertToInteractive',\n",
              "                                                     [key], {});\n",
              "          if (!dataTable) return;\n",
              "\n",
              "          const docLinkHtml = 'Like what you see? Visit the ' +\n",
              "            '<a target=\"_blank\" href=https://colab.research.google.com/notebooks/data_table.ipynb>data table notebook</a>'\n",
              "            + ' to learn more about interactive tables.';\n",
              "          element.innerHTML = '';\n",
              "          dataTable['output_type'] = 'display_data';\n",
              "          await google.colab.output.renderOutput(dataTable, element);\n",
              "          const docLink = document.createElement('div');\n",
              "          docLink.innerHTML = docLinkHtml;\n",
              "          element.appendChild(docLink);\n",
              "        }\n",
              "      </script>\n",
              "    </div>\n",
              "  </div>\n",
              "  "
            ]
          },
          "metadata": {},
          "execution_count": 3
        }
      ]
    },
    {
      "cell_type": "code",
      "source": [
        "data.describe()"
      ],
      "metadata": {
        "colab": {
          "base_uri": "https://localhost:8080/",
          "height": 300
        },
        "id": "EUCMozty55ek",
        "outputId": "dd278b1f-0da3-46b9-8d7e-2787d218d00b"
      },
      "execution_count": null,
      "outputs": [
        {
          "output_type": "execute_result",
          "data": {
            "text/plain": [
              "       Population     Profit\n",
              "count   97.000000  97.000000\n",
              "mean     8.159800   5.839135\n",
              "std      3.869884   5.510262\n",
              "min      5.026900  -2.680700\n",
              "25%      5.707700   1.986900\n",
              "50%      6.589400   4.562300\n",
              "75%      8.578100   7.046700\n",
              "max     22.203000  24.147000"
            ],
            "text/html": [
              "\n",
              "  <div id=\"df-276f9ff8-556a-4926-bdd9-b9a8d0c746a6\">\n",
              "    <div class=\"colab-df-container\">\n",
              "      <div>\n",
              "<style scoped>\n",
              "    .dataframe tbody tr th:only-of-type {\n",
              "        vertical-align: middle;\n",
              "    }\n",
              "\n",
              "    .dataframe tbody tr th {\n",
              "        vertical-align: top;\n",
              "    }\n",
              "\n",
              "    .dataframe thead th {\n",
              "        text-align: right;\n",
              "    }\n",
              "</style>\n",
              "<table border=\"1\" class=\"dataframe\">\n",
              "  <thead>\n",
              "    <tr style=\"text-align: right;\">\n",
              "      <th></th>\n",
              "      <th>Population</th>\n",
              "      <th>Profit</th>\n",
              "    </tr>\n",
              "  </thead>\n",
              "  <tbody>\n",
              "    <tr>\n",
              "      <th>count</th>\n",
              "      <td>97.000000</td>\n",
              "      <td>97.000000</td>\n",
              "    </tr>\n",
              "    <tr>\n",
              "      <th>mean</th>\n",
              "      <td>8.159800</td>\n",
              "      <td>5.839135</td>\n",
              "    </tr>\n",
              "    <tr>\n",
              "      <th>std</th>\n",
              "      <td>3.869884</td>\n",
              "      <td>5.510262</td>\n",
              "    </tr>\n",
              "    <tr>\n",
              "      <th>min</th>\n",
              "      <td>5.026900</td>\n",
              "      <td>-2.680700</td>\n",
              "    </tr>\n",
              "    <tr>\n",
              "      <th>25%</th>\n",
              "      <td>5.707700</td>\n",
              "      <td>1.986900</td>\n",
              "    </tr>\n",
              "    <tr>\n",
              "      <th>50%</th>\n",
              "      <td>6.589400</td>\n",
              "      <td>4.562300</td>\n",
              "    </tr>\n",
              "    <tr>\n",
              "      <th>75%</th>\n",
              "      <td>8.578100</td>\n",
              "      <td>7.046700</td>\n",
              "    </tr>\n",
              "    <tr>\n",
              "      <th>max</th>\n",
              "      <td>22.203000</td>\n",
              "      <td>24.147000</td>\n",
              "    </tr>\n",
              "  </tbody>\n",
              "</table>\n",
              "</div>\n",
              "      <button class=\"colab-df-convert\" onclick=\"convertToInteractive('df-276f9ff8-556a-4926-bdd9-b9a8d0c746a6')\"\n",
              "              title=\"Convert this dataframe to an interactive table.\"\n",
              "              style=\"display:none;\">\n",
              "        \n",
              "  <svg xmlns=\"http://www.w3.org/2000/svg\" height=\"24px\"viewBox=\"0 0 24 24\"\n",
              "       width=\"24px\">\n",
              "    <path d=\"M0 0h24v24H0V0z\" fill=\"none\"/>\n",
              "    <path d=\"M18.56 5.44l.94 2.06.94-2.06 2.06-.94-2.06-.94-.94-2.06-.94 2.06-2.06.94zm-11 1L8.5 8.5l.94-2.06 2.06-.94-2.06-.94L8.5 2.5l-.94 2.06-2.06.94zm10 10l.94 2.06.94-2.06 2.06-.94-2.06-.94-.94-2.06-.94 2.06-2.06.94z\"/><path d=\"M17.41 7.96l-1.37-1.37c-.4-.4-.92-.59-1.43-.59-.52 0-1.04.2-1.43.59L10.3 9.45l-7.72 7.72c-.78.78-.78 2.05 0 2.83L4 21.41c.39.39.9.59 1.41.59.51 0 1.02-.2 1.41-.59l7.78-7.78 2.81-2.81c.8-.78.8-2.07 0-2.86zM5.41 20L4 18.59l7.72-7.72 1.47 1.35L5.41 20z\"/>\n",
              "  </svg>\n",
              "      </button>\n",
              "      \n",
              "  <style>\n",
              "    .colab-df-container {\n",
              "      display:flex;\n",
              "      flex-wrap:wrap;\n",
              "      gap: 12px;\n",
              "    }\n",
              "\n",
              "    .colab-df-convert {\n",
              "      background-color: #E8F0FE;\n",
              "      border: none;\n",
              "      border-radius: 50%;\n",
              "      cursor: pointer;\n",
              "      display: none;\n",
              "      fill: #1967D2;\n",
              "      height: 32px;\n",
              "      padding: 0 0 0 0;\n",
              "      width: 32px;\n",
              "    }\n",
              "\n",
              "    .colab-df-convert:hover {\n",
              "      background-color: #E2EBFA;\n",
              "      box-shadow: 0px 1px 2px rgba(60, 64, 67, 0.3), 0px 1px 3px 1px rgba(60, 64, 67, 0.15);\n",
              "      fill: #174EA6;\n",
              "    }\n",
              "\n",
              "    [theme=dark] .colab-df-convert {\n",
              "      background-color: #3B4455;\n",
              "      fill: #D2E3FC;\n",
              "    }\n",
              "\n",
              "    [theme=dark] .colab-df-convert:hover {\n",
              "      background-color: #434B5C;\n",
              "      box-shadow: 0px 1px 3px 1px rgba(0, 0, 0, 0.15);\n",
              "      filter: drop-shadow(0px 1px 2px rgba(0, 0, 0, 0.3));\n",
              "      fill: #FFFFFF;\n",
              "    }\n",
              "  </style>\n",
              "\n",
              "      <script>\n",
              "        const buttonEl =\n",
              "          document.querySelector('#df-276f9ff8-556a-4926-bdd9-b9a8d0c746a6 button.colab-df-convert');\n",
              "        buttonEl.style.display =\n",
              "          google.colab.kernel.accessAllowed ? 'block' : 'none';\n",
              "\n",
              "        async function convertToInteractive(key) {\n",
              "          const element = document.querySelector('#df-276f9ff8-556a-4926-bdd9-b9a8d0c746a6');\n",
              "          const dataTable =\n",
              "            await google.colab.kernel.invokeFunction('convertToInteractive',\n",
              "                                                     [key], {});\n",
              "          if (!dataTable) return;\n",
              "\n",
              "          const docLinkHtml = 'Like what you see? Visit the ' +\n",
              "            '<a target=\"_blank\" href=https://colab.research.google.com/notebooks/data_table.ipynb>data table notebook</a>'\n",
              "            + ' to learn more about interactive tables.';\n",
              "          element.innerHTML = '';\n",
              "          dataTable['output_type'] = 'display_data';\n",
              "          await google.colab.output.renderOutput(dataTable, element);\n",
              "          const docLink = document.createElement('div');\n",
              "          docLink.innerHTML = docLinkHtml;\n",
              "          element.appendChild(docLink);\n",
              "        }\n",
              "      </script>\n",
              "    </div>\n",
              "  </div>\n",
              "  "
            ]
          },
          "metadata": {},
          "execution_count": 4
        }
      ]
    },
    {
      "cell_type": "code",
      "source": [
        "x = data.values[:, 0]\n",
        "y = data.values[:, 1]\n",
        "plt.plot(x, y, 'o')\n",
        "plt.title('Data plot')\n",
        "plt.xlabel('Population of City in 10,000s')\n",
        "plt.ylabel('Profit in $10,000s')\n",
        "plt.show()"
      ],
      "metadata": {
        "colab": {
          "base_uri": "https://localhost:8080/",
          "height": 295
        },
        "id": "D3dDhlxd6APf",
        "outputId": "a13e4a2d-7d6d-474f-daa8-8e8d1fcc11c0"
      },
      "execution_count": null,
      "outputs": [
        {
          "output_type": "display_data",
          "data": {
            "text/plain": [
              "<Figure size 432x288 with 1 Axes>"
            ],
            "image/png": "[encoded data removed]"
          },
          "metadata": {
            "needs_background": "light"
          }
        }
      ]
    },
    {
      "cell_type": "code",
      "source": [
        "X = np.stack([np.ones(x.shape, dtype=np.float32), x], axis=0)\n",
        "y.shape = [1, y.shape[0]]\n",
        "theta = np.zeros((X.shape[0], 1), dtype=np.float32)"
      ],
      "metadata": {
        "id": "V0iAEGoT8pJW"
      },
      "execution_count": null,
      "outputs": []
    },
    {
      "cell_type": "code",
      "source": [
        "def h(X, theta):\n",
        "  return theta.T @ X\n",
        "\n",
        "def computeCost(X, y, theta):\n",
        "  return ((h(X,theta)-y)**2).sum()/2/y.shape[1]"
      ],
      "metadata": {
        "id": "jeumFmy__DwZ"
      },
      "execution_count": null,
      "outputs": []
    },
    {
      "cell_type": "code",
      "source": [
        "print(computeCost(X, y, theta))\n",
        "a = computeCost(X, y, theta)"
      ],
      "metadata": {
        "colab": {
          "base_uri": "https://localhost:8080/"
        },
        "id": "1Z8WLlGuBPNl",
        "outputId": "36bd0252-209b-4878-96c4-3dd6cc115f32"
      },
      "execution_count": null,
      "outputs": [
        {
          "output_type": "stream",
          "name": "stdout",
          "text": [
            "32.072733877455676\n"
          ]
        }
      ]
    },
    {
      "cell_type": "code",
      "source": [
        "def gradient_prosty(X, y, theta, alpha, it):\n",
        "    cost = []\n",
        "    for i in range(it):\n",
        "        h = theta.T @ X\n",
        "        h_y = h - y\n",
        "        h_yxX = h_y @ X.T\n",
        "        theta = theta - alpha * h_yxX.T / X.shape[1]\n",
        "\n",
        "        cost += [computeCost(X, y, theta)]\n",
        "\n",
        "    return theta, cost"
      ],
      "metadata": {
        "id": "JnGoCiWtHVrE"
      },
      "execution_count": null,
      "outputs": []
    },
    {
      "cell_type": "code",
      "source": [
        "alpha = 0.01\n",
        "it = 1000"
      ],
      "metadata": {
        "id": "vhLeqyqes1iF"
      },
      "execution_count": null,
      "outputs": []
    },
    {
      "cell_type": "code",
      "source": [
        "theta, cost = gradient_prosty(X, y, theta, alpha, it)\n",
        "print(theta)\n",
        "print(cost)"
      ],
      "metadata": {
        "colab": {
          "base_uri": "https://localhost:8080/"
        },
        "id": "3etIOr93s49w",
        "outputId": "7eab09ac-250c-42c4-90be-85ea5fff5ac9"
      },
      "execution_count": null,
      "outputs": [
        {
          "output_type": "stream",
          "name": "stdout",
          "text": [
            "[[-3.24140214]\n",
            " [ 1.1272942 ]]\n",
            "[6.737190464870009, 5.9315935686049555, 5.901154707081388, 5.895228586444221, 5.8900949431173295, 5.885004158443647, 5.879932480491418, 5.874879094762575, 5.869843911806385, 5.8648268653129305, 5.859827889932181, 5.85484692057229, 5.849883892376587, 5.844938740722034, 5.840011401218361, 5.835101809707226, 5.830209902261388, 5.825335615183863, 5.820478885007099, 5.815639648492154, 5.810817842627869, 5.806013404630044, 5.801226271940628, 5.7964563822269, 5.7917036733806535, 5.7869680835173956, 5.782249550975539, 5.777548014315596, 5.772863412319381, 5.768195683989212, 5.76354476854712, 5.758910605434047, 5.754293134309077, 5.749692295048629, 5.745108027745684, 5.740540272709012, 5.735988970462381, 5.731454061743792, 5.726935487504702, 5.722433188909257, 5.717947107333529, 5.713477184364749, 5.709023361800549, 5.704585581648199, 5.700163786123857, 5.695757917651815, 5.691367918863751, 5.68699373259798, 5.682635301898707, 5.678292570015292, 5.673965480401506, 5.669653976714796, 5.6653580028155535, 5.6610775027663784, 5.656812420831359, 5.6525627014753335, 5.648328289363181, 5.644109129359092, 5.639905166525854, 5.635716346124135, 5.631542613611772, 5.627383914643055, 5.623240195068026, 5.619111400931778, 5.61499747847374, 5.610898374126984, 5.606814034517531, 5.602744406463646, 5.598689436975159, 5.59464907325276, 5.590623262687323, 5.586611952859217, 5.5826150915376225, 5.578632626679853, 5.574664506430678, 5.570710679121643, 5.566771093270403, 5.562845697580051, 5.558934440938442, 5.555037272417543, 5.551154141272754, 5.547284996942256, 5.5434297890463515, 5.539588467386808, 5.535760981946204, 5.531947282887275, 5.5281473205522715, 5.524361045462306, 5.520588408316713, 5.5168293599924025, 5.513083851543225, 5.5093518341993315, 5.5056332593665385, 5.501928078625699, 5.498236243732065, 5.494557706614666, 5.490892419375677, 5.487240334289805, 5.483601403803652, 5.479975580535112, 5.476362817272741, 5.472763066975151, 5.469176282770398, 5.465602417955358, 5.462041425995137, 5.4584932605224585, 5.454957875337047, 5.451435224405051, 5.4479252618584235, 5.444427941994333, 5.440943219274565, 5.437471048324934, 5.434011383934687, 5.430564181055919, 5.427129394802985, 5.423706980451918, 5.420296893439836, 5.416899089364381, 5.413513523983123, 5.410140153212988, 5.406778933129694, 5.403429819967165, 5.400092770116975, 5.396767740127768, 5.393454686704697, 5.390153566708862, 5.386864337156747, 5.383586955219661, 5.380321378223178, 5.37706756364658, 5.373825469122317, 5.37059505243543, 5.367376271523024, 5.364169084473713, 5.360973449527068, 5.357789325073084, 5.354616669651632, 5.351455441951917, 5.348305600811941, 5.34516710521798, 5.342039914304029, 5.338923987351284, 5.335819283787603, 5.332725763186988, 5.329643385269053, 5.326572109898499, 5.323511897084587, 5.32046270698063, 5.317424499883461, 5.314397236232924, 5.311380876611356, 5.3083753817430726, 5.305380712493861, 5.302396829870465, 5.2994236950200815, 5.296461269229852, 5.29350951392636, 5.290568390675129, 5.287637861180119, 5.284717887283231, 5.281808430963811, 5.278909454338153, 5.276020919659, 5.27314278931507, 5.270275025830544, 5.267417591864593, 5.264570450210886, 5.26173356379711, 5.2589068956844836, 5.256090409067274, 5.253284067272322, 5.250487833758565, 5.2477016721165555, 5.244925546067995, 5.242159419465253, 5.239403256290902, 5.236657020657251, 5.23392067680587, 5.2311941891071285, 5.228477522059737, 5.225770640290271, 5.223073508552729, 5.220386091728056, 5.217708354823697, 5.215040262973137, 5.21238178143545, 5.2097328755948435, 5.207093510960208, 5.204463653164672, 5.20184326796515, 5.199232321241896, 5.196630778998063, 5.194038607359261, 5.191455772573107, 5.188882241008802, 5.186317979156676, 5.183762953627759, 5.181217131153349, 5.1786804785845755, 5.176152962891967, 5.173634551165023, 5.171125210611782, 5.168624908558404, 5.166133612448731, 5.163651289843875, 5.161177908421789, 5.15871343597685, 5.156257840419434, 5.153811089775505, 5.151373152186197, 5.148943995907395, 5.146523589309322, 5.14411190087614, 5.141708899205516, 5.139314553008234, 5.136928831107777, 5.134551702439933, 5.132183136052364, 5.129823101104237, 5.127471566865799, 5.12512850271798, 5.122793878152007, 5.120467662768992, 5.118149826279542, 5.115840338503368, 5.113539169368884, 5.111246288912825, 5.108961667279847, 5.10668527472215, 5.104417081599077, 5.102157058376736, 5.09990517562762, 5.097661404030211, 5.095425714368609, 5.093198077532151, 5.090978464515021, 5.088766846415887, 5.086563194437517, 5.0843674798864, 5.082179674172386, 5.079999748808297, 5.0778276754095675, 5.075663425693872, 5.073506971480756, 5.071358284691268, 5.069217337347596, 5.067084101572704, 5.064958549589969, 5.06284065372281, 5.060730386394343, 5.05862772012701, 5.056532627542231, 5.0544450813600355, 5.052365054398719, 5.050292519574479, 5.048227449901073, 5.0461698184894574, 5.044119598547441, 5.042076763379341, 5.040041286385627, 5.038013141062577, 5.035992301001938, 5.033978739890578, 5.031972431510141, 5.029973349736707, 5.027981468540455, 5.025996761985324, 5.024019204228668, 5.022048769520927, 5.020085432205294, 5.018129166717368, 5.016179947584834, 5.014237749427129, 5.012302546955107, 5.010374314970709, 5.008453028366642, 5.006538662126046, 5.004631191322176, 5.002730591118061, 5.0008368367662, 4.998949903608227, 4.997069767074594, 4.995196402684257, 4.993329786044343, 4.991469892849845, 4.989616698883301, 4.987770180014478, 4.98593031220006, 4.984097071483332, 4.982270433993872, 4.9804503759472345, 4.978636873644648, 4.9768299034727, 4.975029441903032, 4.973235465492034, 4.971447950880541, 4.969666874793522, 4.967892214039785, 4.966123945511668, 4.964362046184745, 4.962606493117519, 4.96085726345113, 4.959114334409053, 4.957377683296804, 4.955647287501639, 4.9539231244922695, 4.95220517181856, 4.95049340711124, 4.948787808081611, 4.9470883525212574, 4.94539501830176, 4.943707783374398, 4.942026625769878, 4.940351523598029, 4.938682455047537, 4.937019398385641, 4.935362331957869, 4.933711234187743, 4.932066083576499, 4.930426858702819, 4.928793538222535, 4.927166100868363, 4.925544525449623, 4.923928790851962, 4.92231887603708, 4.920714760042453, 4.919116421981067, 4.91752384104114, 4.915936996485852, 4.914355867653075, 4.9127804339551115, 4.91121067487841, 4.9096465699833125, 4.908088098903784, 4.906535241347148, 4.904987977093815, 4.903446285997033, 4.90191014798261, 4.9003795430486665, 4.898854451265366, 4.897334852774656, 4.895820727790017, 4.894312056596191, 4.892808819548944, 4.89131099707479, 4.88981856967075, 4.888331517904091, 4.8868498224120795, 4.885373463901725, 4.883902423149523, 4.88243668100122, 4.880976218371547, 4.879521016243986, 4.878071055670509, 4.876626317771342, 4.875186783734713, 4.87375243481661, 4.872323252340535, 4.8708992176972625, 4.869480312344594, 4.868066517807123, 4.866657815675987, 4.865254187608633, 4.863855615328574, 4.862462080625159, 4.861073565353324, 4.859690051433372, 4.858311520850715, 4.856937955655664, 4.855569337963178, 4.85420564995264, 4.852846873867616, 4.85149299201564, 4.850143986767962, 4.8487998405593355, 4.847460535887785, 4.84612605531437, 4.8447963814629675, 4.843471497020046, 4.842151384734429, 4.8408360274170805, 4.839525407940883, 4.838219509240404, 4.836918314311682, 4.835621806212002, 4.834329968059677, 4.833042783033826, 4.8317602343741575, 4.830482305380744, 4.829208979413817, 4.827940239893541, 4.8266760702998, 4.825416454171979, 4.824161375108761, 4.822910816767899, 4.821664762866011, 4.8204231971783695, 4.819186103538688, 4.817953465838902, 4.816725268028978, 4.8155014941166865, 4.814282128167403, 4.813067154303901, 4.811856556706141, 4.810650319611066, 4.809448427312395, 4.808250864160425, 4.807057614561817, 4.805868662979403, 4.804683993931975, 4.80350359199409, 4.802327441795866, 4.80115552802278, 4.799987835415476, 4.798824348769555, 4.7976650529353915, 4.796509932817919, 4.795358973376449, 4.7942121596244665, 4.793069476629436, 4.791930909512612, 4.790796443448837, 4.789666063666355, 4.788539755446615, 4.787417504124084, 4.786299295086054, 4.785185113772448, 4.784074945675635, 4.7829687763402395, 4.781866591362954, 4.780768376392351, 4.779674117128695, 4.778583799323759, 4.777497408780635, 4.776414931353552, 4.775336352947692, 4.774261659519006, 4.773190837074032, 4.772123871669708, 4.771060749413197, 4.770001456461701, 4.768945979022287, 4.767894303351698, 4.7668464157561825, 4.765802302591315, 4.764761950261812, 4.763725345221363, 4.762692473972447, 4.761663323066164, 4.760637879102053, 4.7596161287279255, 4.75859805863968, 4.757583655581141, 4.7565729063438775, 4.755565797767038, 4.7545623167371724, 4.753562450188067, 4.752566185100569, 4.751573508502425, 4.750584407468098, 4.7495988691186195, 4.7486168806214, 4.7476384291900775, 4.7466635020843455, 4.745692086609787, 4.744724170117706, 4.743759740004973, 4.742798783713851, 4.741841288731832, 4.740887242591484, 4.739936632870274, 4.738989447190423, 4.738045673218728, 4.737105298666416, 4.736168311288972, 4.735234698885989, 4.734304449301005, 4.733377550421342, 4.732453990177952, 4.731533756545261, 4.730616837541011, 4.7297032212260985, 4.7287928957044265, 4.7278858491227505, 4.726982069670518, 4.726081545579717, 4.725184265124721, 4.724290216622143, 4.7233993884306775, 4.722511768950947, 4.721627346625359, 4.7207461099379495, 4.7198680474142325, 4.718993147621053, 4.7181213991664395, 4.717252790699451, 4.716387310910036, 4.715524948528875, 4.7146656923272445, 4.713809531116866, 4.712956453749759, 4.712106449118099, 4.711259506154067, 4.710415613829716, 4.709574761156817, 4.708736937186721, 4.707902131010216, 4.707070331757381, 4.706241528597455, 4.70541571073868, 4.7045928674281745, 4.7037729879517896, 4.702956061633963, 4.70214207783759, 4.701331025963877, 4.700522895452207, 4.699717675780005, 4.698915356462592, 4.6981159270530615, 4.6973193771421275, 4.696525696358007, 4.695734874366266, 4.694946900869703, 4.694161765608201, 4.6933794583586, 4.692599968934568, 4.691823287186457, 4.691049403001182, 4.69027830630208, 4.689509987048791, 4.688744435237113, 4.687981640898881, 4.6872215941018345, 4.686464284949491, 4.685709703581008, 4.684957840171069, 4.684208684929745, 4.683462228102367, 4.682718459969402, 4.681977370846331, 4.681238951083514, 4.680503191066067, 4.679770081213745, 4.679039611980803, 4.678311773855883, 4.677586557361888, 4.676863953055852, 4.676143951528825, 4.675426543405748, 4.674711719345328, 4.6739994700399246, 4.673289786215413, 4.672582658631084, 4.671878078079505, 4.671176035386413, 4.6704765214105874, 4.669779527043733, 4.669085043210365, 4.668393060867689, 4.667703571005477, 4.667016564645957, 4.666332032843698, 4.665649966685489, 4.664970357290219, 4.664293195808771, 4.6636184734239015, 4.662946181350124, 4.6622763108336, 4.661608853152018, 4.660943799614486, 4.660281141561418, 4.659620870364415, 4.65896297742616, 4.658307454180302, 4.657654292091346, 4.657003482654543, 4.6563550173957715, 4.65570888787144, 4.655065085668367, 4.654423602403678, 4.653784429724688, 4.6531475593088025, 4.6525129828634, 4.651880692125735, 4.651250678862817, 4.650622934871314, 4.649997451977443, 4.649374222036858, 4.648753236934556, 4.648134488584754, 4.647517968930801, 4.646903669945062, 4.64629158362882, 4.645681702012166, 4.6450740171539, 4.644468521141423, 4.6438652060906405, 4.643264064145854, 4.642665087479663, 4.6420682682928565, 4.6414735988143185, 4.6408810713009245, 4.64029067803744, 4.63970241133642, 4.6391162635381065, 4.638532227010339, 4.637950294148439, 4.637370457375125, 4.636792709140407, 4.636217041921488, 4.6356434482226705, 4.635071920575256, 4.634502451537443, 4.633935033694242, 4.633369659657368, 4.632806322065146, 4.632245013582422, 4.63168572690046, 4.63112845473685, 4.630573189835415, 4.630019924966111, 4.6294686529249365, 4.628919366533842, 4.62837205864063, 4.627826722118864, 4.627283349867778, 4.626741934812184, 4.626202469902373, 4.625664948114038, 4.625129362448163, 4.62459570593095, 4.6240639716137135, 4.623534152572803, 4.623006241909502, 4.622480232749945, 4.621956118245025, 4.621433891570306, 4.620913545925933, 4.62039507453654, 4.619878470651173, 4.619363727543187, 4.618850838510172, 4.618339796873855, 4.6178305959800205, 4.617323229198419, 4.616817689922686, 4.61631397157025, 4.61581206758225, 4.61531197142345, 4.6148136765821555, 4.614317176570121, 4.613822464922479, 4.613329535197642, 4.612838380977227, 4.612348995865971, 4.611861373491643, 4.611375507504967, 4.6108913915795355, 4.610409019411731, 4.609928384720636, 4.609449481247963, 4.6089723027579605, 4.608496843037341, 4.608023095895198, 4.60755105516292, 4.60708071469412, 4.606612068364545, 4.606145110072004, 4.605679833736285, 4.605216233299077, 4.60475430272389, 4.604294035995977, 4.603835427122256, 4.603378470131233, 4.60292315907292, 4.602469488018764, 4.602017451061564, 4.6015670423153985, 4.601118255915542, 4.600671086018399, 4.600225526801421, 4.59978157246303, 4.599339217222544, 4.598898455320108, 4.5984592810166065, 4.598021688593604, 4.597585672353254, 4.597151226618241, 4.596718345731694, 4.596287024057118, 4.595857255978325, 4.595429035899349, 4.595002358244384, 4.594577217457711, 4.594153608003618, 4.59373152436633, 4.593310961049945, 4.5928919125783585, 4.592474373495182, 4.592058338363686, 4.591643801766726, 4.591230758306666, 4.590819202605312, 4.590409129303844, 4.590000533062744, 4.589593408561723, 4.5891877504996605, 4.588783553594528, 4.5883808125833205, 4.587979522221995, 4.587579677285392, 4.587181272567177, 4.586784302879765, 4.586388763054259, 4.585994647940378, 4.585601952406392, 4.585210671339057, 4.5848207996435475, 4.584432332243384, 4.584045264080381, 4.5836595901145625, 4.583275305324111, 4.582892404705298, 4.582510883272419, 4.582130736057722, 4.581751958111356, 4.581374544501292, 4.580998490313272, 4.580623790650735, 4.580250440634761, 4.579878435403997, 4.579507770114606, 4.579138439940198, 4.5787704400717635, 4.578403765717619, 4.578038412103337, 4.57767437447169, 4.577311648082583, 4.576950228212997, 4.576590110156924, 4.576231289225308, 4.57587376074598, 4.575517520063601, 4.575162562539603, 4.574808883552121, 4.574456478495943, 4.574105342782438, 4.573755471839511, 4.573406861111529, 4.573059506059272, 4.5727134021598665, 4.572368544906735, 4.572024929809525, 4.571682552394068, 4.5713414082023025, 4.571001492792229, 4.5706628017378454, 4.570325330629095, 4.569989075071803, 4.569654030687624, 4.56932019311398, 4.568987558004012, 4.568656121026514, 4.568325877865882, 4.567996824222056, 4.567668955810467, 4.567342268361972, 4.567016757622818, 4.56669241935456, 4.566369249334026, 4.566047243353257, 4.565726397219448, 4.565406706754898, 4.565088167796951, 4.564770776197949, 4.564454527825168, 4.564139418560777, 4.563825444301772, 4.563512600959929, 4.5632008844617475, 4.562890290748406, 4.562580815775695, 4.562272455513976, 4.561965205948124, 4.561659063077478, 4.561354022915784, 4.56105008149115, 4.560747234845985, 4.560445479036962, 4.560144810134948, 4.559845224224967, 4.559546717406144, 4.559249285791658, 4.558952925508681, 4.558657632698341, 4.558363403515664, 4.558070234129523, 4.557778120722592, 4.557487059491295, 4.557197046645755, 4.556908078409751, 4.556620151020654, 4.556333260729399, 4.556047403800417, 4.5557625765115946, 4.555478775154231, 4.555195996032977, 4.554914235465802, 4.554633489783926, 4.554353755331798, 4.554075028467021, 4.553797305560327, 4.553520582995515, 4.553244857169412, 4.552970124491824, 4.552696381385485, 4.5524236242860185, 4.5521518496418825, 4.551881053914331, 4.551611233577363, 4.551342385117677, 4.551074505034629, 4.550807589840181, 4.55054163605886, 4.550276640227711, 4.550012598896254, 4.549749508626434, 4.549487365992583, 4.549226167581372, 4.5489659099917645, 4.548706589834975, 4.548448203734425, 4.548190748325698, 4.547934220256497, 4.547678616186597, 4.547423932787805, 4.547170166743919, 4.546917314750677, 4.546665373515724, 4.54641433975856, 4.546164210210503, 4.545914981614642, 4.545666650725801, 4.54541921431049, 4.545172669146869, 4.544927012024698, 4.544682239745306, 4.544438349121537, 4.5441953369777215, 4.543953200149624, 4.543711935484408, 4.543471539840591, 4.543232010088012, 4.542993343107778, 4.542755535792234, 4.542518585044916, 4.5422824877805175, 4.5420472409248385, 4.541812841414758, 4.541579286198186, 4.541346572234027, 4.541114696492135, 4.540883655953286, 4.540653447609125, 4.540424068462133, 4.540195515525591, 4.5399677858235385, 4.53974087639073, 4.539514784272604, 4.539289506525238, 4.539065040215319, 4.538841382420094, 4.5386185302273425, 4.538396480735327, 4.538175231052767, 4.537954778298796, 4.537735119602923, 4.537516252104996, 4.537298172955165, 4.537080879313848, 4.5368643683516865, 4.536648637249516, 4.536433683198326, 4.536219503399223, 4.536006095063398, 4.535793455412081, 4.535581581676518, 4.535370471097922, 4.53516012092745, 4.53495052842615, 4.534741690864944, 4.534533605524584, 4.534326269695611, 4.5341196806783275, 4.533913835782764, 4.533708732328634, 4.5335043676453095, 4.533300739071782, 4.533097843956623, 4.532895679657961, 4.532694243543436, 4.532493532990172, 4.532293545384737, 4.532094278123115, 4.53189572861067, 4.531697894262111, 4.531500772501458, 4.531304360762013, 4.531108656486318, 4.5309136571261295, 4.530719360142384, 4.53052576300516, 4.530332863193653, 4.530140658196133, 4.529949145509925, 4.52975832264136, 4.529568187105754, 4.529378736427375, 4.529189968139407, 4.5290018797839195, 4.5288144689118335, 4.5286277330828915, 4.528441669865631, 4.528256276837341, 4.528071551584041, 4.527887491700442, 4.527704094789922, 4.527521358464489, 4.527339280344758, 4.527157858059903, 4.52697708924765, 4.526796971554226, 4.52661750263434, 4.526438680151146, 4.526260501776218, 4.526082965189512, 4.525906068079348, 4.525729808142366, 4.525554183083503, 4.5253791906159675, 4.525204828461203, 4.525031094348856, 4.524857986016757, 4.524685501210879, 4.5245136376853194, 4.52434239320226, 4.524171765531945, 4.524001752452653, 4.523832351750661, 4.523663561220222, 4.523495378663532, 4.523327801890707, 4.523160828719747, 4.5229944569765115, 4.522828684494693, 4.52266350911579, 4.522498928689068, 4.522334941071547, 4.52217154412796, 4.522008735730734, 4.521846513759959, 4.521684876103361, 4.521523820656275, 4.521363345321613, 4.521203448009848, 4.52104412663897, 4.520885379134478, 4.520727203429336, 4.520569597463956, 4.520412559186166, 4.52025608655119, 4.520100177521617, 4.51994483006737, 4.519790042165688, 4.5196358118010975, 4.519482136965378, 4.519329015657548, 4.519176445883833, 4.519024425657637, 4.518872952999525, 4.518722025937183, 4.518571642505413, 4.518421800746084, 4.518272498708126, 4.518123734447491, 4.517975506027139, 4.5178278115170025, 4.517680648993969, 4.517534016541851, 4.517387912251361, 4.517242334220096, 4.517097280552497, 4.51695274935984, 4.516808738760196, 4.516665246878423, 4.516522271846126, 4.516379811801645, 4.516237864890023, 4.516096429262984, 4.515955503078913]\n"
          ]
        }
      ]
    },
    {
      "cell_type": "code",
      "source": [
        "plt.scatter(x,y,label = 'Training data')\n",
        "plt.plot(x,h(X,theta).T,'r', label = 'Linear regression')\n",
        "plt.xlabel('Population of City in 10 000s')\n",
        "plt.ylabel('Profit in $10 000')\n",
        "plt.title('Data plot')\n",
        "plt.legend()\n",
        "plt.show()"
      ],
      "metadata": {
        "colab": {
          "base_uri": "https://localhost:8080/",
          "height": 295
        },
        "id": "R_aRCEBFNkU_",
        "outputId": "e8d4d42f-2cab-41f4-9daf-726d4cf8bf50"
      },
      "execution_count": null,
      "outputs": [
        {
          "output_type": "display_data",
          "data": {
            "text/plain": [
              "<Figure size 432x288 with 1 Axes>"
            ],
            "image/png": "[encoded data removed]"
          },
          "metadata": {
            "needs_background": "light"
          }
        }
      ]
    },
    {
      "cell_type": "code",
      "source": [
        "plt.plot(range(len(cost)),cost)\n",
        "plt.xlabel('Iteration number')\n",
        "plt.ylabel('Cost function value')\n",
        "plt.show()"
      ],
      "metadata": {
        "colab": {
          "base_uri": "https://localhost:8080/",
          "height": 279
        },
        "id": "z7p3pac6OioM",
        "outputId": "2d9e85ad-9979-4013-9205-161b8089078f"
      },
      "execution_count": null,
      "outputs": [
        {
          "output_type": "display_data",
          "data": {
            "text/plain": [
              "<Figure size 432x288 with 1 Axes>"
            ],
            "image/png": "[encoded data removed]"
          },
          "metadata": {
            "needs_background": "light"
          }
        }
      ]
    },
    {
      "cell_type": "code",
      "source": [
        "path = os.getcwd() + '/ex1data2.txt'\n",
        "data2 = pd.read_csv(path, header=None, names=['Size', 'Bedrooms', 'Price'])\n",
        "data2.head()"
      ],
      "metadata": {
        "colab": {
          "base_uri": "https://localhost:8080/",
          "height": 206
        },
        "id": "Q524AmJMQbrh",
        "outputId": "4f1b84d8-d149-4fcf-ab0c-7fe6c6d78aa2"
      },
      "execution_count": null,
      "outputs": [
        {
          "output_type": "execute_result",
          "data": {
            "text/plain": [
              "   Size  Bedrooms   Price\n",
              "0  2104         3  399900\n",
              "1  1600         3  329900\n",
              "2  2400         3  369000\n",
              "3  1416         2  232000\n",
              "4  3000         4  539900"
            ],
            "text/html": [
              "\n",
              "  <div id=\"df-85a95514-dd52-4036-a2bc-7c5c99cbcb49\">\n",
              "    <div class=\"colab-df-container\">\n",
              "      <div>\n",
              "<style scoped>\n",
              "    .dataframe tbody tr th:only-of-type {\n",
              "        vertical-align: middle;\n",
              "    }\n",
              "\n",
              "    .dataframe tbody tr th {\n",
              "        vertical-align: top;\n",
              "    }\n",
              "\n",
              "    .dataframe thead th {\n",
              "        text-align: right;\n",
              "    }\n",
              "</style>\n",
              "<table border=\"1\" class=\"dataframe\">\n",
              "  <thead>\n",
              "    <tr style=\"text-align: right;\">\n",
              "      <th></th>\n",
              "      <th>Size</th>\n",
              "      <th>Bedrooms</th>\n",
              "      <th>Price</th>\n",
              "    </tr>\n",
              "  </thead>\n",
              "  <tbody>\n",
              "    <tr>\n",
              "      <th>0</th>\n",
              "      <td>2104</td>\n",
              "      <td>3</td>\n",
              "      <td>399900</td>\n",
              "    </tr>\n",
              "    <tr>\n",
              "      <th>1</th>\n",
              "      <td>1600</td>\n",
              "      <td>3</td>\n",
              "      <td>329900</td>\n",
              "    </tr>\n",
              "    <tr>\n",
              "      <th>2</th>\n",
              "      <td>2400</td>\n",
              "      <td>3</td>\n",
              "      <td>369000</td>\n",
              "    </tr>\n",
              "    <tr>\n",
              "      <th>3</th>\n",
              "      <td>1416</td>\n",
              "      <td>2</td>\n",
              "      <td>232000</td>\n",
              "    </tr>\n",
              "    <tr>\n",
              "      <th>4</th>\n",
              "      <td>3000</td>\n",
              "      <td>4</td>\n",
              "      <td>539900</td>\n",
              "    </tr>\n",
              "  </tbody>\n",
              "</table>\n",
              "</div>\n",
              "      <button class=\"colab-df-convert\" onclick=\"convertToInteractive('df-85a95514-dd52-4036-a2bc-7c5c99cbcb49')\"\n",
              "              title=\"Convert this dataframe to an interactive table.\"\n",
              "              style=\"display:none;\">\n",
              "        \n",
              "  <svg xmlns=\"http://www.w3.org/2000/svg\" height=\"24px\"viewBox=\"0 0 24 24\"\n",
              "       width=\"24px\">\n",
              "    <path d=\"M0 0h24v24H0V0z\" fill=\"none\"/>\n",
              "    <path d=\"M18.56 5.44l.94 2.06.94-2.06 2.06-.94-2.06-.94-.94-2.06-.94 2.06-2.06.94zm-11 1L8.5 8.5l.94-2.06 2.06-.94-2.06-.94L8.5 2.5l-.94 2.06-2.06.94zm10 10l.94 2.06.94-2.06 2.06-.94-2.06-.94-.94-2.06-.94 2.06-2.06.94z\"/><path d=\"M17.41 7.96l-1.37-1.37c-.4-.4-.92-.59-1.43-.59-.52 0-1.04.2-1.43.59L10.3 9.45l-7.72 7.72c-.78.78-.78 2.05 0 2.83L4 21.41c.39.39.9.59 1.41.59.51 0 1.02-.2 1.41-.59l7.78-7.78 2.81-2.81c.8-.78.8-2.07 0-2.86zM5.41 20L4 18.59l7.72-7.72 1.47 1.35L5.41 20z\"/>\n",
              "  </svg>\n",
              "      </button>\n",
              "      \n",
              "  <style>\n",
              "    .colab-df-container {\n",
              "      display:flex;\n",
              "      flex-wrap:wrap;\n",
              "      gap: 12px;\n",
              "    }\n",
              "\n",
              "    .colab-df-convert {\n",
              "      background-color: #E8F0FE;\n",
              "      border: none;\n",
              "      border-radius: 50%;\n",
              "      cursor: pointer;\n",
              "      display: none;\n",
              "      fill: #1967D2;\n",
              "      height: 32px;\n",
              "      padding: 0 0 0 0;\n",
              "      width: 32px;\n",
              "    }\n",
              "\n",
              "    .colab-df-convert:hover {\n",
              "      background-color: #E2EBFA;\n",
              "      box-shadow: 0px 1px 2px rgba(60, 64, 67, 0.3), 0px 1px 3px 1px rgba(60, 64, 67, 0.15);\n",
              "      fill: #174EA6;\n",
              "    }\n",
              "\n",
              "    [theme=dark] .colab-df-convert {\n",
              "      background-color: #3B4455;\n",
              "      fill: #D2E3FC;\n",
              "    }\n",
              "\n",
              "    [theme=dark] .colab-df-convert:hover {\n",
              "      background-color: #434B5C;\n",
              "      box-shadow: 0px 1px 3px 1px rgba(0, 0, 0, 0.15);\n",
              "      filter: drop-shadow(0px 1px 2px rgba(0, 0, 0, 0.3));\n",
              "      fill: #FFFFFF;\n",
              "    }\n",
              "  </style>\n",
              "\n",
              "      <script>\n",
              "        const buttonEl =\n",
              "          document.querySelector('#df-85a95514-dd52-4036-a2bc-7c5c99cbcb49 button.colab-df-convert');\n",
              "        buttonEl.style.display =\n",
              "          google.colab.kernel.accessAllowed ? 'block' : 'none';\n",
              "\n",
              "        async function convertToInteractive(key) {\n",
              "          const element = document.querySelector('#df-85a95514-dd52-4036-a2bc-7c5c99cbcb49');\n",
              "          const dataTable =\n",
              "            await google.colab.kernel.invokeFunction('convertToInteractive',\n",
              "                                                     [key], {});\n",
              "          if (!dataTable) return;\n",
              "\n",
              "          const docLinkHtml = 'Like what you see? Visit the ' +\n",
              "            '<a target=\"_blank\" href=https://colab.research.google.com/notebooks/data_table.ipynb>data table notebook</a>'\n",
              "            + ' to learn more about interactive tables.';\n",
              "          element.innerHTML = '';\n",
              "          dataTable['output_type'] = 'display_data';\n",
              "          await google.colab.output.renderOutput(dataTable, element);\n",
              "          const docLink = document.createElement('div');\n",
              "          docLink.innerHTML = docLinkHtml;\n",
              "          element.appendChild(docLink);\n",
              "        }\n",
              "      </script>\n",
              "    </div>\n",
              "  </div>\n",
              "  "
            ]
          },
          "metadata": {},
          "execution_count": 25
        }
      ]
    },
    {
      "cell_type": "code",
      "source": [
        "data2['Size'] = (data2['Size'] - data2['Size'].mean()) / data2['Size'].std()\n",
        "data2['Bedrooms'] = (data2['Bedrooms'] - data2['Bedrooms'].mean()) / data2['Bedrooms'].std()\n",
        "data2['Price'] = (data2['Price'] - data2['Price'].mean()) / data2['Price'].std()\n",
        "\n",
        "data2.head()"
      ],
      "metadata": {
        "colab": {
          "base_uri": "https://localhost:8080/",
          "height": 206
        },
        "id": "1uiwWmauQd4M",
        "outputId": "f2c9ddfa-dc29-4aa2-99ea-22ee87aa24e8"
      },
      "execution_count": null,
      "outputs": [
        {
          "output_type": "execute_result",
          "data": {
            "text/plain": [
              "       Size  Bedrooms     Price\n",
              "0  0.130010 -0.223675  0.475747\n",
              "1 -0.504190 -0.223675 -0.084074\n",
              "2  0.502476 -0.223675  0.228626\n",
              "3 -0.735723 -1.537767 -0.867025\n",
              "4  1.257476  1.090417  1.595389"
            ],
            "text/html": [
              "\n",
              "  <div id=\"df-caf9f8cd-8233-4ea1-b025-dbbc33d095d6\">\n",
              "    <div class=\"colab-df-container\">\n",
              "      <div>\n",
              "<style scoped>\n",
              "    .dataframe tbody tr th:only-of-type {\n",
              "        vertical-align: middle;\n",
              "    }\n",
              "\n",
              "    .dataframe tbody tr th {\n",
              "        vertical-align: top;\n",
              "    }\n",
              "\n",
              "    .dataframe thead th {\n",
              "        text-align: right;\n",
              "    }\n",
              "</style>\n",
              "<table border=\"1\" class=\"dataframe\">\n",
              "  <thead>\n",
              "    <tr style=\"text-align: right;\">\n",
              "      <th></th>\n",
              "      <th>Size</th>\n",
              "      <th>Bedrooms</th>\n",
              "      <th>Price</th>\n",
              "    </tr>\n",
              "  </thead>\n",
              "  <tbody>\n",
              "    <tr>\n",
              "      <th>0</th>\n",
              "      <td>0.130010</td>\n",
              "      <td>-0.223675</td>\n",
              "      <td>0.475747</td>\n",
              "    </tr>\n",
              "    <tr>\n",
              "      <th>1</th>\n",
              "      <td>-0.504190</td>\n",
              "      <td>-0.223675</td>\n",
              "      <td>-0.084074</td>\n",
              "    </tr>\n",
              "    <tr>\n",
              "      <th>2</th>\n",
              "      <td>0.502476</td>\n",
              "      <td>-0.223675</td>\n",
              "      <td>0.228626</td>\n",
              "    </tr>\n",
              "    <tr>\n",
              "      <th>3</th>\n",
              "      <td>-0.735723</td>\n",
              "      <td>-1.537767</td>\n",
              "      <td>-0.867025</td>\n",
              "    </tr>\n",
              "    <tr>\n",
              "      <th>4</th>\n",
              "      <td>1.257476</td>\n",
              "      <td>1.090417</td>\n",
              "      <td>1.595389</td>\n",
              "    </tr>\n",
              "  </tbody>\n",
              "</table>\n",
              "</div>\n",
              "      <button class=\"colab-df-convert\" onclick=\"convertToInteractive('df-caf9f8cd-8233-4ea1-b025-dbbc33d095d6')\"\n",
              "              title=\"Convert this dataframe to an interactive table.\"\n",
              "              style=\"display:none;\">\n",
              "        \n",
              "  <svg xmlns=\"http://www.w3.org/2000/svg\" height=\"24px\"viewBox=\"0 0 24 24\"\n",
              "       width=\"24px\">\n",
              "    <path d=\"M0 0h24v24H0V0z\" fill=\"none\"/>\n",
              "    <path d=\"M18.56 5.44l.94 2.06.94-2.06 2.06-.94-2.06-.94-.94-2.06-.94 2.06-2.06.94zm-11 1L8.5 8.5l.94-2.06 2.06-.94-2.06-.94L8.5 2.5l-.94 2.06-2.06.94zm10 10l.94 2.06.94-2.06 2.06-.94-2.06-.94-.94-2.06-.94 2.06-2.06.94z\"/><path d=\"M17.41 7.96l-1.37-1.37c-.4-.4-.92-.59-1.43-.59-.52 0-1.04.2-1.43.59L10.3 9.45l-7.72 7.72c-.78.78-.78 2.05 0 2.83L4 21.41c.39.39.9.59 1.41.59.51 0 1.02-.2 1.41-.59l7.78-7.78 2.81-2.81c.8-.78.8-2.07 0-2.86zM5.41 20L4 18.59l7.72-7.72 1.47 1.35L5.41 20z\"/>\n",
              "  </svg>\n",
              "      </button>\n",
              "      \n",
              "  <style>\n",
              "    .colab-df-container {\n",
              "      display:flex;\n",
              "      flex-wrap:wrap;\n",
              "      gap: 12px;\n",
              "    }\n",
              "\n",
              "    .colab-df-convert {\n",
              "      background-color: #E8F0FE;\n",
              "      border: none;\n",
              "      border-radius: 50%;\n",
              "      cursor: pointer;\n",
              "      display: none;\n",
              "      fill: #1967D2;\n",
              "      height: 32px;\n",
              "      padding: 0 0 0 0;\n",
              "      width: 32px;\n",
              "    }\n",
              "\n",
              "    .colab-df-convert:hover {\n",
              "      background-color: #E2EBFA;\n",
              "      box-shadow: 0px 1px 2px rgba(60, 64, 67, 0.3), 0px 1px 3px 1px rgba(60, 64, 67, 0.15);\n",
              "      fill: #174EA6;\n",
              "    }\n",
              "\n",
              "    [theme=dark] .colab-df-convert {\n",
              "      background-color: #3B4455;\n",
              "      fill: #D2E3FC;\n",
              "    }\n",
              "\n",
              "    [theme=dark] .colab-df-convert:hover {\n",
              "      background-color: #434B5C;\n",
              "      box-shadow: 0px 1px 3px 1px rgba(0, 0, 0, 0.15);\n",
              "      filter: drop-shadow(0px 1px 2px rgba(0, 0, 0, 0.3));\n",
              "      fill: #FFFFFF;\n",
              "    }\n",
              "  </style>\n",
              "\n",
              "      <script>\n",
              "        const buttonEl =\n",
              "          document.querySelector('#df-caf9f8cd-8233-4ea1-b025-dbbc33d095d6 button.colab-df-convert');\n",
              "        buttonEl.style.display =\n",
              "          google.colab.kernel.accessAllowed ? 'block' : 'none';\n",
              "\n",
              "        async function convertToInteractive(key) {\n",
              "          const element = document.querySelector('#df-caf9f8cd-8233-4ea1-b025-dbbc33d095d6');\n",
              "          const dataTable =\n",
              "            await google.colab.kernel.invokeFunction('convertToInteractive',\n",
              "                                                     [key], {});\n",
              "          if (!dataTable) return;\n",
              "\n",
              "          const docLinkHtml = 'Like what you see? Visit the ' +\n",
              "            '<a target=\"_blank\" href=https://colab.research.google.com/notebooks/data_table.ipynb>data table notebook</a>'\n",
              "            + ' to learn more about interactive tables.';\n",
              "          element.innerHTML = '';\n",
              "          dataTable['output_type'] = 'display_data';\n",
              "          await google.colab.output.renderOutput(dataTable, element);\n",
              "          const docLink = document.createElement('div');\n",
              "          docLink.innerHTML = docLinkHtml;\n",
              "          element.appendChild(docLink);\n",
              "        }\n",
              "      </script>\n",
              "    </div>\n",
              "  </div>\n",
              "  "
            ]
          },
          "metadata": {},
          "execution_count": 26
        }
      ]
    },
    {
      "cell_type": "code",
      "source": [
        "x = data2.values[:, 0]\n",
        "y = data2.values[:, 1]\n",
        "z = data2.values[:, 2]"
      ],
      "metadata": {
        "id": "sqyqVzP7QmvH"
      },
      "execution_count": null,
      "outputs": []
    },
    {
      "cell_type": "code",
      "source": [
        "X = np.stack([np.ones(x.shape, dtype=np.float32), x,y], axis=0)\n",
        "z.shape = [1, z.shape[0]]\n",
        "theta = np.zeros((X.shape[0], 1), dtype=np.float32)"
      ],
      "metadata": {
        "id": "gf5cnaVaQqMN"
      },
      "execution_count": null,
      "outputs": []
    },
    {
      "cell_type": "code",
      "source": [
        "print(computeCost(X,z,theta))"
      ],
      "metadata": {
        "colab": {
          "base_uri": "https://localhost:8080/"
        },
        "id": "D-D6rmrpRg-u",
        "outputId": "e16ab9fb-aade-4c19-e184-ae64e9138f1b"
      },
      "execution_count": null,
      "outputs": [
        {
          "output_type": "stream",
          "name": "stdout",
          "text": [
            "0.4893617021276595\n"
          ]
        }
      ]
    },
    {
      "cell_type": "code",
      "source": [
        "theta, cost = gradient_prosty(X, z, theta, alpha, it)\n",
        "print(theta)\n",
        "print(cost)"
      ],
      "metadata": {
        "colab": {
          "base_uri": "https://localhost:8080/"
        },
        "id": "Xq0SSD8gQx41",
        "outputId": "013e7515-dc7f-4f1f-dd2f-66b856d5313f"
      },
      "execution_count": null,
      "outputs": [
        {
          "output_type": "stream",
          "name": "stdout",
          "text": [
            "[[-1.10632543e-16]\n",
            " [ 8.78503652e-01]\n",
            " [-4.69166570e-02]]\n",
            "[0.48054910410767177, 0.47198587701203865, 0.4636646161870627, 0.45557814005252983, 0.4477194833532611, 0.4400818906150643, 0.43265880979889004, 0.42544388614718714, 0.4184309562166347, 0.4116140420916035, 0.4049873457728716, 0.39854524373628336, 0.3922822816562035, 0.38619316928877423, 0.3802727755101314, 0.37451612350488717, 0.3689183861003258, 0.36347488124189703, 0.35818106760572727, 0.35303254034399595, 0.3480250269591544, 0.3431543833030802, 0.3384165896973838, 0.3338077471711977, 0.32932407381288636, 0.32496190123222946, 0.3207176711297256, 0.3165879319697777, 0.3125693357546088, 0.30865863489585715, 0.30485267918089237, 0.30114841283098287, 0.2975428716485305, 0.2940331802506764, 0.29061654938665893, 0.28729027333638907, 0.28405172738778034, 0.28089836539044943, 0.2778277173834724, 0.27483738729495405, 0.27192505071123474, 0.26908845271362497, 0.26632540578062164, 0.26363378775362334, 0.2610115398642198, 0.2584566648211922, 0.25596722495541263, 0.25354134042089205, 0.25117718745027373, 0.24887299666312285, 0.24662705142541463, 0.2444376862586687, 0.2423032852972262, 0.24022228079221122, 0.23819315166076369, 0.2362144220791698, 0.23428466011856308, 0.23240247642190492, 0.2305665229209955, 0.22877549159230046, 0.22702811325042077, 0.22532315637806244, 0.22365942599140304, 0.22203576253978147, 0.22045104083867165, 0.21890416903493284, 0.2173940876033578, 0.2159197683735719, 0.21448021358636368, 0.2130744549785544, 0.21170155289554488, 0.21036059543069827, 0.20905069759074843, 0.20777100048644412, 0.20652067054766643, 0.20529889876227617, 0.20410489993797504, 0.20293791198648126, 0.20179719522934592, 0.20068203172475316, 0.1995917246146703, 0.19852559749172968, 0.1974829937852473, 0.19646327616579626, 0.19546582596777473, 0.1944900426294234, 0.19353534314976362, 0.19260116156194365, 0.1916869484224977, 0.1907921703160338, 0.189916309374886, 0.18905886281327441, 0.18821934247553765, 0.1873972743980089, 0.1865921983841233, 0.18580366759235697, 0.18503124813660804, 0.1842745186986435, 0.18353307015224665, 0.18280650519871142, 0.1820944380133389, 0.18139649390260434, 0.1807123089716706, 0.1800415298019359, 0.17938381313831125, 0.17873882558593357, 0.17810624331602853, 0.17748575178064738, 0.17687704543600677, 0.17627982747417442, 0.17569380956284514, 0.1751187115929645, 0.17455426143396122, 0.17400019469635852, 0.17345625450154262, 0.1729221912584685, 0.17239776244709656, 0.1718827324083545, 0.17137687214042716, 0.17087995910118398, 0.17039177701655678, 0.16991211569468953, 0.16944077084568412, 0.1689775439067737, 0.16852224187275908, 0.16807467713154942, 0.1676346673046519, 0.16720203509246181, 0.16677660812420694, 0.16635821881240653, 0.1659467042117072, 0.16554190588196396, 0.16514366975543857, 0.16475184600798926, 0.1643662889341329, 0.16398685682586128, 0.16361341185509826, 0.16324581995968843, 0.1628839507328093, 0.162527677315705, 0.16217687629363953, 0.1618314275949739, 0.16149121439327116, 0.16115612301233917, 0.16082604283412125, 0.1605008662093497, 0.16018048837087778, 0.1598648073496096, 0.15955372389294994, 0.1592471413856969, 0.15894496577330428, 0.15864710548744218, 0.15835347137378586, 0.1580639766219659, 0.15777853669761477, 0.15749706927644566, 0.157219494180303, 0.1569457333151249, 0.15667571061075897, 0.15640935196257785, 0.15614658517483707, 0.1558873399057249, 0.1556315476140529, 0.1553791415075362, 0.15513005649261752, 0.15488422912578662, 0.15464159756635174, 0.1544021015306174, 0.15416568224742783, 0.15393228241503384, 0.15370184615924345, 0.15347431899281805, 0.1532496477760753, 0.1530277806786644, 0.15280866714247615, 0.15259225784565547, 0.15237850466768188, 0.15216736065548656, 0.15195877999057444, 0.1517527179571211, 0.15154913091101488, 0.15134797624981636, 0.15114921238360696, 0.15095279870670036, 0.15075869557019014, 0.15056686425530957, 0.15037726694757766, 0.15018986671170934, 0.15000462746726562, 0.14982151396502189, 0.1496404917640332, 0.14946152720937447, 0.14928458741053677, 0.14910964022045872, 0.14893665421517452, 0.1487655986740602, 0.14859644356065962, 0.14842915950407323, 0.14826371778089278, 0.14810009029766483, 0.14793824957386828, 0.14777816872538993, 0.14761982144848268, 0.14746318200419287, 0.14730822520324208, 0.14715492639134978, 0.14700326143498363, 0.14685320670752522, 0.14670473907583767, 0.14655783588722407, 0.14641247495676463, 0.14626863455502107, 0.14612629339609773, 0.14598543062604827, 0.14584602581161762, 0.14570805892930994, 0.1455715103547714, 0.14543636085247993, 0.14530259156573178, 0.14517018400691611, 0.1450391200480697, 0.14490938191170247, 0.14478095216188627, 0.14465381369559946, 0.14452794973431846, 0.14440334381585018, 0.14427997978639773, 0.14415784179285185, 0.14403691427530227, 0.14391718195976194, 0.1437986298510979, 0.14368124322616266, 0.1435650076271199, 0.14344990885495962, 0.14333593296319552, 0.14322306625174078, 0.1431112952609561, 0.14300060676586487, 0.14289098777053136, 0.14278242550259543, 0.14267490740796124, 0.14256842114563384, 0.1424629545826994, 0.142358495789446, 0.1422550330346192, 0.14215255478081015, 0.14205104967997026, 0.14195050656905087, 0.14185091446576262, 0.14175226256445186, 0.14165454023209023, 0.1415577370043743, 0.14146184258193198, 0.14136684682663245, 0.14127273975799665, 0.14117951154970584, 0.14108715252620413, 0.1409956531593937, 0.1409050040654189, 0.14081519600153708, 0.14072621986307404, 0.14063806668046033, 0.1405507276163476, 0.14046419396280138, 0.14037845713856928, 0.14029350868642076, 0.14020934027055862, 0.14012594367409764, 0.14004331079661064, 0.13996143365173838, 0.1398803043648625, 0.13979991517083903, 0.13972025841179112, 0.13964132653495884, 0.1395631120906052, 0.13948560772997554, 0.1394088062033102, 0.13933270035790743, 0.13925728313623667, 0.1391825475740994, 0.13910848679883664, 0.13903509402758246, 0.13896236256556097, 0.13889028580442658, 0.13881885722064558, 0.13874807037391837, 0.13867791890564093, 0.1386083965374045, 0.13853949706953192, 0.1384712143796508, 0.138403542421301, 0.1383364752225765, 0.13827000688480012, 0.13820413158123054, 0.1381388435558005, 0.13807413712188513, 0.1380100066611002, 0.13794644662212888, 0.13788345151957582, 0.13782101593284923, 0.1377591345050687, 0.13769780194199865, 0.13763701301100714, 0.13757676254004805, 0.13751704541666762, 0.13745785658703333, 0.1373991910549853, 0.13734104388110907, 0.1372834101818299, 0.13722628512852678, 0.1371696639466672, 0.13711354191496047, 0.1370579143645306, 0.13700277667810676, 0.13694812428923256, 0.13689395268149127, 0.13684025738774938, 0.13678703398941558, 0.1367342781157162, 0.13668198544298577, 0.13663015169397338, 0.13657877263716303, 0.1365278440861087, 0.13647736189878348, 0.13642732197694216, 0.1363777202654966, 0.13632855275190497, 0.13627981546557255, 0.13623150447726529, 0.13618361589853506, 0.13613614588115658, 0.13608909061657562, 0.1360424463353681, 0.13599620930670997, 0.1359503758378574, 0.13590494227363753, 0.13585990499594844, 0.13581526042326947, 0.13577100501018038, 0.13572713524689023, 0.1356836476587745, 0.1356405388059217, 0.1355978052826878, 0.1355554437172595, 0.13551345077122473, 0.13547182313915251, 0.13543055754817865, 0.13538965075760037, 0.13534909955847768, 0.13530890077324167, 0.13526905125531044, 0.13522954788871078, 0.13519038758770774, 0.13515156729643935, 0.13511308398855892, 0.1350749346668823, 0.13503711636304225, 0.13499962613714758, 0.13496246107744922, 0.13492561830001068, 0.13488909494838497, 0.13485288819329633, 0.13481699523232707, 0.13478141328961016, 0.13474613961552587, 0.13471117148640427, 0.13467650620423155, 0.13464214109636177, 0.13460807351523252, 0.13457430083808555, 0.13454082046669136, 0.13450762982707823, 0.13447472636926536, 0.13444210756700006, 0.13440977091749887, 0.1343777139411927, 0.1343459341814757, 0.1343144292044577, 0.13428319659872073, 0.13425223397507838, 0.13422153896633948, 0.1341911092270747, 0.13416094243338642, 0.1341310362826823, 0.13410138849345166, 0.13407199680504514, 0.13404285897745763, 0.1340139727911139, 0.1339853360466573, 0.1339569465647415, 0.133928802185825, 0.13390090076996808, 0.13387324019663316, 0.13384581836448714, 0.13381863319120707, 0.13379168261328728, 0.13376496458585066, 0.1337384770824609, 0.1337122180949378, 0.1336861856331754, 0.1336603777249612, 0.1336347924157991, 0.1336094277687338, 0.13358428186417726, 0.13355935279973805, 0.133534638690052, 0.13351013766661568, 0.1334858478776214, 0.13346176748779448, 0.13343789467823244, 0.1334142276462463, 0.13339076460520338, 0.1333675037843725, 0.13334444342877066, 0.13332158179901155, 0.13329891717115622, 0.13327644783656503, 0.13325417210175164, 0.13323208828823851, 0.13321019473241427, 0.1331884897853924, 0.13316697181287215, 0.13314563919500016, 0.13312449032623447, 0.13310352361520966, 0.1330827374846035, 0.13306213037100525, 0.13304170072478533, 0.1330214470099664, 0.13300136770409593, 0.13298146129812033, 0.1329617262962599, 0.13294216121588615, 0.13292276458739896, 0.13290353495410684, 0.13288447087210703, 0.13286557091016762, 0.13284683364961067, 0.1328282576841967, 0.13280984162001036, 0.1327915840753473, 0.13277348368060224, 0.13275553907815812, 0.13273774892227672, 0.13272011187898983, 0.13270262662599233, 0.13268529185253558, 0.13266810625932268, 0.13265106855840397, 0.1326341774730744, 0.13261743173777144, 0.13260083009797413, 0.13258437131010334, 0.13256805414142275, 0.13255187736994117, 0.13253583978431546, 0.13251994018375463, 0.13250417737792486, 0.13248855018685585, 0.1324730574408471, 0.13245769798037613, 0.13244247065600748, 0.13242737432830165, 0.13241240786772623, 0.13239757015456716, 0.1323828600788408, 0.1323682765402074, 0.13235381844788482, 0.1323394847205633, 0.1323252742863214, 0.13231118608254225, 0.1322972190558306, 0.1322833721619313, 0.13226964436564795, 0.13225603464076224, 0.13224254196995477, 0.13222916534472595, 0.13221590376531783, 0.132202756240637, 0.1321897217881776, 0.13217679943394564, 0.13216398821238384, 0.1321512871662969, 0.13213869534677794, 0.13212621181313536, 0.1321138356328202, 0.13210156588135483, 0.13208940164226143, 0.13207734200699195, 0.1320653860748583, 0.1320535329529629, 0.13204178175613057, 0.1320301316068407, 0.13201858163516, 0.1320071309786758, 0.13199577878243007, 0.1319845241988544, 0.13197336638770488, 0.13196230451599797, 0.13195133775794726, 0.1319404652949001, 0.13192968631527519, 0.13191900001450108, 0.1319084055949546, 0.1318979022659001, 0.1318874892434295, 0.13187716575040254, 0.13186693101638763, 0.13185678427760353, 0.13184672477686088, 0.13183675176350523, 0.13182686449335976, 0.13181706222866899, 0.1318073442380425, 0.1317977097963999, 0.13178815818491568, 0.13177868869096468, 0.13176930060806835, 0.13175999323584095, 0.13175076587993687, 0.1317416178519979, 0.13173254846960125, 0.13172355705620792, 0.1317146429411117, 0.13170580545938823, 0.1316970439518451, 0.13168835776497176, 0.13167974625089038, 0.13167120876730692, 0.13166274467746283, 0.13165435335008663, 0.1316460341593466, 0.13163778648480362, 0.13162960971136442, 0.13162150322923483, 0.13161346643387448, 0.1316054987259508, 0.1315975995112941, 0.13158976820085277, 0.13158200421064906, 0.13157430696173483, 0.1315666758801485, 0.13155911039687143, 0.13155160994778525, 0.13154417397362972, 0.1315368019199602, 0.13152949323710655, 0.13152224738013127, 0.13151506380878894, 0.1315079419874856, 0.13150088138523833, 0.1314938814756356, 0.1314869417367975, 0.13148006165133694, 0.13147324070632052, 0.13146647839323006, 0.13145977420792457, 0.1314531276506024, 0.13144653822576374, 0.1314400054421733, 0.13143352881282383, 0.13142710785489933, 0.13142074208973895, 0.131414431042801, 0.1314081742436276, 0.13140197122580935, 0.13139582152695017, 0.131389724688633, 0.13138368025638514, 0.13137768777964465, 0.13137174681172595, 0.1313658569097871, 0.13136001763479607, 0.1313542285514982, 0.13134848922838346, 0.1313427992376543, 0.1313371581551934, 0.13133156556053213, 0.1313260210368191, 0.1313205241707888, 0.1313150745527309, 0.13130967177645933, 0.13130431543928217, 0.1312990051419713, 0.1312937404887328, 0.13128852108717698, 0.13128334654828966, 0.13127821648640214, 0.1312731305191634, 0.13126808826751082, 0.1312630893556419, 0.1312581334109867, 0.13125322006417922, 0.13124834894903042, 0.1312435197025006, 0.13123873196467223, 0.13123398537872305, 0.13122927959089975, 0.13122461425049098, 0.13121998900980147, 0.1312154035241262, 0.13121085745172426, 0.1312063504537937, 0.1312018821944459, 0.13119745234068075, 0.13119306056236169, 0.13118870653219086, 0.13118438992568504, 0.13118011042115107, 0.131175867699662, 0.13117166144503328, 0.1311674913437991, 0.131163357085189, 0.13115925836110465, 0.13115519486609692, 0.13115116629734294, 0.13114717235462373, 0.13114321274030152, 0.1311392871592977, 0.1311353953190708, 0.13113153692959448, 0.13112771170333615, 0.1311239193552353, 0.13112015960268233, 0.1311164321654974, 0.13111273676590968, 0.13110907312853629, 0.13110544098036206, 0.13110184005071915, 0.13109827007126648, 0.13109473077597042, 0.13109122190108408, 0.1310877431851283, 0.1310842943688719, 0.13108087519531225, 0.1310774854096562, 0.1310741247593012, 0.1310707929938162, 0.13106748986492298, 0.1310642151264781, 0.13106096853445373, 0.13105774984692029, 0.13105455882402778, 0.13105139522798825, 0.1310482588230578, 0.13104514937551923, 0.13104206665366452, 0.1310390104277775, 0.13103598047011683, 0.13103297655489882, 0.13102999845828084, 0.1310270459583445, 0.131024118835079, 0.13102121687036486, 0.1310183398479578, 0.13101548755347212, 0.1310126597743655, 0.1310098562999221, 0.13100707692123784, 0.13100432143120436, 0.13100158962449346, 0.13099888129754222, 0.13099619624853737, 0.13099353427740043, 0.13099089518577295, 0.13098827877700142, 0.13098568485612286, 0.13098311322985015, 0.1309805637065576, 0.13097803609626685, 0.13097553021063246, 0.13097304586292793, 0.13097058286803198, 0.13096814104241453, 0.13096572020412306, 0.13096332017276913, 0.13096094076951484, 0.1309585818170595, 0.1309562431396265, 0.13095392456295016, 0.13095162591426274, 0.1309493470222814, 0.13094708771719582, 0.1309448478306552, 0.13094262719575575, 0.13094042564702843, 0.13093824302042648, 0.13093607915331307, 0.13093393388444957, 0.13093180705398305, 0.13092969850343475, 0.13092760807568807, 0.13092553561497694, 0.13092348096687406, 0.13092144397827962, 0.1309194244974097, 0.1309174223737851, 0.1309154374582199, 0.13091346960281075, 0.1309115186609254, 0.13090958448719192, 0.1309076669374881, 0.13090576586893032, 0.13090388113986332, 0.1309020126098491, 0.130900160139657, 0.13089832359125309, 0.13089650282778975, 0.13089469771359574, 0.13089290811416598, 0.13089113389615128, 0.1308893749273488, 0.13088763107669207, 0.13088590221424096, 0.13088418821117243, 0.1308824889397705, 0.1308808042734172, 0.1308791340865826, 0.13087747825481583, 0.13087583665473576, 0.13087420916402168, 0.13087259566140427, 0.1308709960266565, 0.13086941014058484, 0.13086783788502004, 0.13086627914280874, 0.13086473379780442, 0.13086320173485885, 0.13086168283981364, 0.13086017699949137, 0.13085868410168766, 0.13085720403516238, 0.1308557366896316, 0.13085428195575916, 0.1308528397251488, 0.13085140989033586, 0.13084999234477948, 0.13084858698285431, 0.13084719369984307, 0.13084581239192833, 0.1308444429561852, 0.13084308529057323, 0.13084173929392914, 0.13084040486595916, 0.1308390819072315, 0.13083777031916902, 0.1308364700040417, 0.13083518086495985, 0.13083390280586624, 0.13083263573152945, 0.13083137954753649, 0.13083013416028572, 0.13082889947698031, 0.13082767540562087, 0.1308264618549986, 0.13082525873468895, 0.13082406595504426, 0.13082288342718756, 0.1308217110630058, 0.1308205487751432, 0.13081939647699478, 0.1308182540827, 0.13081712150713623, 0.13081599866591248, 0.13081488547536316, 0.13081378185254175, 0.13081268771521454, 0.13081160298185485, 0.1308105275716365, 0.13080946140442812, 0.130808404400787, 0.1308073564819534, 0.13080631756984423, 0.13080528758704793, 0.13080426645681778, 0.13080325410306715, 0.1308022504503631, 0.13080125542392115, 0.13080026894959962, 0.1307992909538939, 0.13079832136393132, 0.13079736010746545, 0.13079640711287088, 0.13079546230913786, 0.1307945256258668, 0.13079359699326334, 0.13079267634213282, 0.1307917636038756, 0.13079085871048138, 0.13078996159452444, 0.13078907218915878, 0.13078819042811268, 0.13078731624568424, 0.13078644957673605, 0.13078559035669074, 0.13078473852152583, 0.13078389400776927, 0.13078305675249438, 0.13078222669331543, 0.1307814037683828, 0.13078058791637864, 0.13077977907651195, 0.13077897718851422, 0.1307781821926351, 0.13077739402963767, 0.13077661264079418, 0.13077583796788161, 0.1307750699531773, 0.13077430853945493, 0.1307735536699798, 0.13077280528850505, 0.130772063339267, 0.13077132776698147, 0.13077059851683936, 0.13076987553450264, 0.13076915876610035, 0.13076844815822455, 0.1307677436579262, 0.13076704521271162, 0.130766352770538, 0.1307656662798101, 0.1307649856893759, 0.13076431094852314, 0.1307636420069756, 0.13076297881488888, 0.13076232132284712, 0.13076166948185916, 0.130761023243355, 0.13076038255918201, 0.1307597473816014, 0.1307591176632847, 0.13075849335731038, 0.13075787441716, 0.13075726079671499, 0.13075665245025325, 0.13075604933244553, 0.13075545139835223, 0.13075485860342012, 0.13075427090347866, 0.13075368825473718, 0.13075311061378123, 0.13075253793756964, 0.130751970183431, 0.13075140730906076, 0.13075084927251804, 0.13075029603222227, 0.13074974754695043, 0.13074920377583366, 0.1307486646783545, 0.13074813021434362, 0.13074760034397698, 0.13074707502777283, 0.13074655422658873, 0.13074603790161876, 0.1307455260143904, 0.1307450185267619, 0.13074451540091925, 0.13074401659937354, 0.13074352208495807, 0.1307430318208254, 0.13074254577044495, 0.13074206389760024, 0.13074158616638576, 0.13074111254120485, 0.13074064298676663, 0.1307401774680837, 0.13073971595046918, 0.1307392583995346, 0.13073880478118674, 0.13073835506162565, 0.13073790920734168, 0.13073746718511342, 0.13073702896200481, 0.13073659450536293, 0.13073616378281558, 0.1307357367622686, 0.13073531341190395, 0.13073489370017688, 0.1307344775958137, 0.13073406506780968, 0.13073365608542653, 0.13073325061819005, 0.13073284863588813, 0.13073245010856818, 0.1307320550065351, 0.13073166330034908, 0.13073127496082312, 0.13073088995902143, 0.13073050826625665, 0.13073012985408808, 0.1307297546943194, 0.13072938275899673, 0.13072901402040638, 0.13072864845107285, 0.1307282860237569, 0.1307279267114532, 0.13072757048738876, 0.13072721732502054, 0.13072686719803367, 0.1307265200803395, 0.13072617594607358, 0.13072583476959365, 0.13072549652547813, 0.13072516118852356, 0.1307248287337435, 0.13072449913636586, 0.13072417237183181, 0.13072384841579335, 0.13072352724411185, 0.13072320883285618, 0.13072289315830093, 0.13072258019692445, 0.13072226992540747, 0.1307219623206308, 0.1307216573596743, 0.13072135501981474, 0.1307210552785241, 0.13072075811346803, 0.13072046350250424, 0.1307201714236805, 0.13071988185523364, 0.1307195947755871, 0.13071931016335006, 0.13071902799731558, 0.13071874825645874, 0.13071847091993558, 0.13071819596708106, 0.13071792337740806, 0.13071765313060524, 0.13071738520653595, 0.1307171195852367, 0.13071685624691542, 0.13071659517195025, 0.130716336340888, 0.13071607973444266, 0.1307158253334938, 0.13071557311908563, 0.13071532307242514, 0.13071507517488076, 0.13071482940798115, 0.13071458575341374, 0.13071434419302336, 0.1307141047088108, 0.13071386728293166, 0.13071363189769472, 0.1307133985355611, 0.13071316717914241, 0.13071293781119983, 0.13071271041464275, 0.13071248497252724, 0.13071226146805529, 0.13071203988457308, 0.13071182020556993, 0.13071160241467714, 0.13071138649566666, 0.1307111724324499, 0.13071096020907663, 0.13071074980973366, 0.1307105412187436, 0.13071033442056398, 0.13071012939978585, 0.13070992614113264, 0.1307097246294592, 0.13070952484975046, 0.13070932678712036, 0.13070913042681095, 0.13070893575419099, 0.13070874275475494, 0.13070855141412213, 0.13070836171803532, 0.1307081736523599, 0.13070798720308266, 0.1307078023563109, 0.13070761909827136, 0.13070743741530905, 0.13070725729388646, 0.13070707872058232, 0.13070690168209076, 0.1307067261652203, 0.13070655215689284, 0.13070637964414267, 0.13070620861411544, 0.13070603905406739, 0.13070587095136432, 0.13070570429348047, 0.1307055390679978, 0.13070537526260517, 0.13070521286509695, 0.1307050518633726, 0.13070489224543566, 0.13070473399939248, 0.130704577113452, 0.13070442157592424, 0.13070426737521978, 0.13070411449984887, 0.13070396293842038, 0.13070381267964123, 0.13070366371231523, 0.13070351602534264, 0.1307033696077189]\n"
          ]
        }
      ]
    },
    {
      "cell_type": "code",
      "source": [
        "data_x_y = np.arange(-3, 3)\n",
        "data_z = theta[0] + theta[1] * data_x_y + theta[2] * data_x_y\n",
        "ax = plt.axes(projection ='3d')  \n",
        "ax.scatter(data2.Size, data2.Bedrooms, data2.Price)\n",
        "ax.plot(data_x_y, data_x_y, data_z, 'r')\n",
        "plt.show()"
      ],
      "metadata": {
        "colab": {
          "base_uri": "https://localhost:8080/",
          "height": 258
        },
        "id": "ln6PI_eJRm7f",
        "outputId": "0ecd652c-f4e0-4aa0-8252-65a648e1fc06"
      },
      "execution_count": null,
      "outputs": [
        {
          "output_type": "display_data",
          "data": {
            "text/plain": [
              "<Figure size 432x288 with 1 Axes>"
            ],
            "image/png": "[encoded data removed]"
          },
          "metadata": {
            "needs_background": "light"
          }
        }
      ]
    }
  ]
}