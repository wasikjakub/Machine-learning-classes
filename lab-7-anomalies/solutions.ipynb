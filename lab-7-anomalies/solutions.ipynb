{
 "cells": [
  {
   "cell_type": "code",
   "execution_count": 31,
   "metadata": {},
   "outputs": [],
   "source": [
    "import numpy as np  \n",
    "import pandas as pd  \n",
    "import matplotlib.pyplot as plt  \n",
    "from scipy.io import loadmat  \n",
    "from scipy import stats\n",
    "from sklearn.metrics import f1_score\n",
    " \n",
    "data = loadmat('ex8data1.mat')  \n",
    "X = data['X']   "
   ]
  },
  {
   "cell_type": "code",
   "execution_count": 32,
   "metadata": {},
   "outputs": [
    {
     "data": {
      "text/plain": [
       "(307, 2)"
      ]
     },
     "execution_count": 32,
     "metadata": {},
     "output_type": "execute_result"
    }
   ],
   "source": [
    "X.shape"
   ]
  },
  {
   "cell_type": "code",
   "execution_count": 33,
   "metadata": {},
   "outputs": [
    {
     "data": {
      "image/png": "[encoded data removed]",
      "text/plain": [
       "<Figure size 432x288 with 1 Axes>"
      ]
     },
     "metadata": {
      "needs_background": "light"
     },
     "output_type": "display_data"
    }
   ],
   "source": [
    "plt.scatter(X[:,0], X[:,1])\n",
    "plt.show()"
   ]
  },
  {
   "cell_type": "code",
   "execution_count": 34,
   "metadata": {},
   "outputs": [
    {
     "data": {
      "image/png": "[encoded data removed]",
      "text/plain": [
       "<Figure size 432x288 with 1 Axes>"
      ]
     },
     "metadata": {
      "needs_background": "light"
     },
     "output_type": "display_data"
    }
   ],
   "source": [
    "plt.hist(X[:,1])\n",
    "plt.show()"
   ]
  },
  {
   "cell_type": "code",
   "execution_count": 35,
   "metadata": {},
   "outputs": [
    {
     "data": {
      "image/png": "[encoded data removed]",
      "text/plain": [
       "<Figure size 432x288 with 1 Axes>"
      ]
     },
     "metadata": {
      "needs_background": "light"
     },
     "output_type": "display_data"
    }
   ],
   "source": [
    "plt.hist(X[:,0])\n",
    "plt.show()"
   ]
  },
  {
   "cell_type": "code",
   "execution_count": 36,
   "metadata": {},
   "outputs": [
    {
     "name": "stdout",
     "output_type": "stream",
     "text": [
      "(14.112225783945592, 1.8326314134945172)\n",
      "(14.99771050813621, 1.7097453308287784)\n"
     ]
    }
   ],
   "source": [
    "def estimate_gaussian(X):  \n",
    "    mu = np.mean(X) \n",
    "    sigma = np.var(X)\n",
    "    return mu, sigma\n",
    "\n",
    "x1_mean_var = estimate_gaussian(X[:,0])\n",
    "x2_mean_var = estimate_gaussian(X[:,1])\n",
    "print(x1_mean_var)\n",
    "print(x2_mean_var)\n"
   ]
  },
  {
   "cell_type": "code",
   "execution_count": 37,
   "metadata": {},
   "outputs": [
    {
     "data": {
      "text/plain": [
       "(307, 2)"
      ]
     },
     "execution_count": 37,
     "metadata": {},
     "output_type": "execute_result"
    }
   ],
   "source": [
    "Xval = data['Xval']  \n",
    "yval = data['yval']\n",
    " \n",
    "# TODO: check the number of data (X.shape)\n",
    "Xval.shape"
   ]
  },
  {
   "cell_type": "code",
   "execution_count": 38,
   "metadata": {},
   "outputs": [],
   "source": [
    "p_X1 = np.zeros((X.shape[0]))\n",
    "p_X2 = np.zeros((X.shape[0]))\n",
    "gauss1 = stats.norm.pdf(X[:,0], loc=x1_mean_var[0], scale=np.sqrt(x1_mean_var[1]))\n",
    "gauss2 = stats.norm.pdf(X[:,1], loc=x2_mean_var[0], scale=np.sqrt(x2_mean_var[1]))\n"
   ]
  },
  {
   "cell_type": "code",
   "execution_count": 39,
   "metadata": {},
   "outputs": [
    {
     "data": {
      "text/plain": [
       "array([2.16209766e-01, 2.57452082e-01, 2.94132233e-01, 2.47211916e-01,\n",
       "       2.72515466e-01, 2.91811896e-01, 1.87139581e-01, 1.51176483e-01,\n",
       "       9.35633051e-02, 1.66608997e-01, 2.93387080e-01, 2.94487687e-01,\n",
       "       2.55592373e-01, 2.55956210e-01, 2.93271402e-01, 2.94445597e-01,\n",
       "       2.92880166e-01, 2.85183307e-01, 2.77277592e-01, 9.48976543e-02,\n",
       "       2.70272714e-01, 2.93421614e-01, 2.41105554e-01, 2.93042880e-01,\n",
       "       1.96077288e-01, 1.56529793e-01, 2.75904586e-01, 2.57496215e-01,\n",
       "       2.76670469e-01, 2.83495304e-01, 1.70682832e-01, 2.93186130e-01,\n",
       "       2.04326372e-01, 1.95772970e-01, 1.08970523e-01, 2.45951257e-01,\n",
       "       1.40637462e-01, 2.94633744e-01, 2.80527513e-01, 2.93718568e-01,\n",
       "       2.81681579e-01, 2.25242931e-01, 2.82189416e-01, 2.94296621e-01,\n",
       "       2.66749616e-01, 2.88560129e-01, 1.11371039e-01, 2.94677206e-01,\n",
       "       2.89041960e-01, 1.85565845e-01, 2.40902893e-01, 2.79275320e-01,\n",
       "       2.85710057e-01, 2.94679955e-01, 2.79865441e-01, 2.94563913e-01,\n",
       "       2.94678481e-01, 2.92866760e-01, 2.61576838e-01, 2.93931902e-01,\n",
       "       2.41794994e-01, 2.93111756e-01, 2.00125732e-01, 2.89317885e-01,\n",
       "       2.93040180e-01, 2.40827466e-01, 2.81627103e-01, 2.82320567e-01,\n",
       "       1.49365027e-01, 2.04627572e-01, 2.73806550e-01, 2.22298135e-01,\n",
       "       2.92773818e-01, 1.53104026e-01, 2.90566324e-01, 2.92541529e-01,\n",
       "       2.52947438e-01, 2.94689570e-01, 1.12807682e-01, 2.63766248e-01,\n",
       "       2.85763984e-01, 1.87874150e-01, 2.79494587e-01, 1.89150974e-01,\n",
       "       1.68554473e-01, 2.89343679e-01, 2.76231746e-01, 2.35850580e-01,\n",
       "       2.88643387e-01, 2.93638597e-01, 2.39163932e-01, 2.55081592e-01,\n",
       "       2.90064661e-01, 1.31747739e-01, 2.91182342e-01, 1.31789997e-01,\n",
       "       1.35249751e-01, 2.68400183e-01, 2.67669491e-01, 2.73685605e-01,\n",
       "       1.20272949e-01, 2.56511049e-01, 2.22004236e-01, 1.89312919e-01,\n",
       "       1.80206828e-01, 2.84304792e-01, 1.48244980e-01, 2.58447884e-01,\n",
       "       2.16888734e-01, 3.14843704e-02, 2.90670741e-01, 1.97172214e-01,\n",
       "       2.07099156e-01, 2.94579060e-01, 2.94303360e-01, 1.13215847e-01,\n",
       "       2.56495524e-01, 2.22535828e-01, 2.89527390e-01, 1.70949391e-01,\n",
       "       1.98590928e-01, 2.94156309e-01, 2.87024626e-01, 2.77023908e-01,\n",
       "       2.80682960e-01, 2.75005634e-01, 2.20461360e-01, 2.44524438e-01,\n",
       "       1.08365371e-01, 2.91268921e-01, 2.52839733e-01, 2.93925135e-01,\n",
       "       2.57366483e-01, 2.20305223e-01, 1.69471369e-01, 2.94179388e-01,\n",
       "       2.52388036e-01, 2.55956032e-01, 2.73297032e-01, 2.23096974e-01,\n",
       "       2.80227467e-01, 2.93036883e-01, 9.10004802e-02, 2.76790950e-01,\n",
       "       2.72056195e-01, 1.60404252e-01, 2.14630345e-01, 1.64305537e-02,\n",
       "       2.01894261e-01, 2.93540106e-01, 1.54332923e-01, 1.50364044e-01,\n",
       "       2.36304511e-01, 2.93491228e-01, 2.62985155e-01, 2.26696505e-01,\n",
       "       2.90017181e-01, 2.70617510e-01, 2.08525108e-01, 2.89292076e-01,\n",
       "       2.73461292e-01, 1.15578303e-01, 2.79114147e-01, 2.90350221e-01,\n",
       "       2.75679349e-01, 2.94556584e-01, 2.94373538e-01, 2.94541660e-01,\n",
       "       1.24552425e-01, 2.93206842e-01, 1.71070789e-02, 2.91399355e-01,\n",
       "       1.28466845e-01, 2.17461938e-01, 1.95626725e-01, 2.70392792e-01,\n",
       "       2.72713124e-01, 2.93285255e-01, 1.96520018e-01, 1.21161384e-01,\n",
       "       2.89390700e-01, 2.94645135e-01, 1.62627511e-01, 2.89688480e-01,\n",
       "       2.82809596e-01, 2.93069396e-01, 2.21979231e-01, 2.19292110e-01,\n",
       "       2.47251810e-01, 2.93011617e-01, 2.82346637e-01, 1.48014318e-01,\n",
       "       2.55546872e-01, 2.94628782e-01, 2.54548884e-01, 1.71670331e-01,\n",
       "       2.42943662e-01, 2.92409661e-01, 2.18861098e-01, 2.74550620e-01,\n",
       "       1.69465837e-01, 2.90497267e-01, 2.93958709e-01, 1.91947702e-01,\n",
       "       2.72590899e-01, 2.55794233e-01, 2.80937436e-01, 1.94550536e-01,\n",
       "       2.81290987e-01, 2.93952685e-01, 2.76903928e-01, 2.36771026e-01,\n",
       "       2.94471450e-01, 2.85066979e-01, 2.72754134e-01, 2.89414160e-01,\n",
       "       2.92402207e-01, 2.45211543e-01, 2.85390190e-01, 2.60898066e-01,\n",
       "       2.94175121e-01, 2.87883751e-01, 6.16721397e-02, 1.09148901e-01,\n",
       "       2.50711450e-01, 2.18380723e-01, 6.74633207e-02, 1.95250763e-01,\n",
       "       2.75861961e-01, 2.80959056e-01, 1.63945590e-01, 1.67972271e-01,\n",
       "       2.88076179e-01, 2.12045037e-01, 2.30433964e-01, 2.52776363e-01,\n",
       "       1.86849739e-01, 2.86679352e-01, 2.73606249e-01, 1.39537209e-01,\n",
       "       2.93640261e-01, 2.01592834e-01, 2.81561585e-01, 2.25759836e-01,\n",
       "       2.87765608e-01, 2.13443808e-01, 2.80716858e-01, 2.40804042e-01,\n",
       "       2.39066785e-01, 1.00847997e-01, 2.88948243e-01, 1.13488340e-01,\n",
       "       2.84392609e-01, 2.52257409e-01, 2.21048326e-01, 2.75227457e-01,\n",
       "       2.16212158e-01, 2.94550720e-01, 2.37776204e-01, 2.92361019e-01,\n",
       "       1.88674332e-01, 2.32064606e-01, 2.55290035e-01, 2.18558244e-01,\n",
       "       2.79279179e-01, 2.74146308e-01, 2.44643491e-01, 2.87699249e-01,\n",
       "       2.91535427e-01, 2.69169484e-01, 2.58913687e-01, 2.85572859e-01,\n",
       "       2.85164268e-01, 2.94417651e-01, 1.99364900e-01, 2.29539212e-01,\n",
       "       1.70946436e-01, 2.89481856e-01, 2.42086739e-01, 7.87128185e-02,\n",
       "       2.53570009e-01, 1.12090017e-01, 2.94528979e-01, 2.41116025e-01,\n",
       "       2.63677070e-01, 2.49415443e-01, 2.16612558e-01, 2.85766626e-01,\n",
       "       2.16633170e-01, 2.93887209e-01, 2.87949198e-01, 2.94684492e-01,\n",
       "       2.79847123e-01, 2.94681684e-01, 2.77807376e-01, 2.81415591e-01,\n",
       "       2.91860117e-01, 2.79116442e-01, 2.93675087e-01, 9.13501558e-02,\n",
       "       2.20269615e-01, 3.96782978e-08, 1.42034079e-01, 8.38717586e-05,\n",
       "       2.39928434e-11, 2.68974021e-03, 1.22865368e-11])"
      ]
     },
     "execution_count": 39,
     "metadata": {},
     "output_type": "execute_result"
    }
   ],
   "source": [
    "gauss1"
   ]
  },
  {
   "cell_type": "code",
   "execution_count": 40,
   "metadata": {},
   "outputs": [
    {
     "name": "stdout",
     "output_type": "stream",
     "text": [
      "5.810923665605239e-13\n",
      "0.30510142489030334\n"
     ]
    },
    {
     "data": {
      "text/plain": [
       "array([0.30457725, 0.29540963, 0.16132253, 0.22661829, 0.27090007,\n",
       "       0.20830726, 0.30231612, 0.28875122, 0.26524155, 0.30426236])"
      ]
     },
     "execution_count": 40,
     "metadata": {},
     "output_type": "execute_result"
    }
   ],
   "source": [
    "pval = np.zeros((Xval.shape[0], Xval.shape[1]))  \n",
    "pval[:,0] = stats.norm.pdf(Xval[:,0], x1_mean_var[0], np.sqrt(x1_mean_var[1]))\n",
    "pval[:,1] = stats.norm.pdf(Xval[:,1], x2_mean_var[0], np.sqrt(x2_mean_var[1]))\n",
    "print(pval[:,1].min())\n",
    "print(pval[:,1].max())\n",
    "pval[:10, 1]"
   ]
  },
  {
   "cell_type": "code",
   "execution_count": 41,
   "metadata": {},
   "outputs": [
    {
     "name": "stdout",
     "output_type": "stream",
     "text": [
      "(0.0003966715195093453, 0.8750000000000001)\n"
     ]
    }
   ],
   "source": [
    "def select_threshold(pval, yval): \n",
    "    pspace = np.array(np.linspace(pval.min(),pval.max(),10000))\n",
    "    best_eps = pspace[0]\n",
    "    eps = pspace[0]\n",
    "    pred = np.zeros((len(yval),1))\n",
    "    for k in range(len(yval)):\n",
    "        if pval[k,0] > eps or pval[k,1] > eps:\n",
    "            pred[k] = 1\n",
    "    best_f1 = f1_score(yval, pred)\n",
    "    for i in range(len(pspace)):\n",
    "        eps = pspace[i]\n",
    "        pred = np.zeros((len(yval),1))\n",
    "        for k in range(len(yval)):\n",
    "            if pval[k,0] < eps or pval[k,1] < eps:\n",
    "                pred[k] = 1\n",
    "        f1 = f1_score(yval, pred)\n",
    "        if f1 > best_f1:\n",
    "            best_eps = eps\n",
    "            best_f1 = f1\n",
    "    return best_eps, best_f1\n",
    "  \n",
    "print(select_threshold(pval, yval))"
   ]
  },
  {
   "cell_type": "code",
   "execution_count": 45,
   "metadata": {},
   "outputs": [
    {
     "data": {
      "text/plain": [
       "Text(0.5, 1.0, 'Final result')"
      ]
     },
     "execution_count": 45,
     "metadata": {},
     "output_type": "execute_result"
    },
    {
     "data": {
      "image/png": "[encoded data removed]",
      "text/plain": [
       "<Figure size 432x288 with 1 Axes>"
      ]
     },
     "metadata": {
      "needs_background": "light"
     },
     "output_type": "display_data"
    }
   ],
   "source": [
    "eps, f1 = select_threshold(pval, yval)\n",
    "t1 = gauss1 < eps\n",
    "t2 = gauss2 < eps\n",
    "y = np.logical_or(t1,t2).astype(int)\n",
    "anomalies = np.where(y == 1)\n",
    "AN = np.zeros((anomalies[0].shape[0], 2))\n",
    "for ii in range (0, anomalies[0].shape[0]):\n",
    "    AN[ii, 0] = X[anomalies[0][ii], 0]\n",
    "    AN[ii, 1] = X[anomalies[0][ii], 1]\n",
    "\n",
    "plt.scatter(X[:,0], X[:,1])\n",
    "plt.scatter(AN[:,0], AN[:,1], s=200, facecolors='none', edgecolors='r')\n",
    "plt.xlabel('latency')\n",
    "plt.ylabel('throughput')\n",
    "plt.title('Wynik')\n"
   ]
  }
 ],
 "metadata": {
  "kernelspec": {
   "display_name": "Python 3",
   "language": "python",
   "name": "python3"
  },
  "language_info": {
   "codemirror_mode": {
    "name": "ipython",
    "version": 3
   },
   "file_extension": ".py",
   "mimetype": "text/x-python",
   "name": "python",
   "nbconvert_exporter": "python",
   "pygments_lexer": "ipython3",
   "version": "3.9.13"
  },
  "orig_nbformat": 4
 },
 "nbformat": 4,
 "nbformat_minor": 2
}
