{
  "nbformat": 4,
  "nbformat_minor": 0,
  "metadata": {
    "colab": {
      "provenance": []
    },
    "kernelspec": {
      "name": "python3",
      "display_name": "Python 3"
    },
    "language_info": {
      "name": "python"
    }
  },
  "cells": [
    {
      "cell_type": "code",
      "source": [
        "import pandas as pd\n",
        "import numpy as np\n",
        "import matplotlib.pyplot as plt\n",
        "from sklearn import datasets, linear_model, preprocessing\n",
        "from sklearn.model_selection import train_test_split\n",
        "from sklearn.preprocessing import StandardScaler, PolynomialFeatures\n",
        "from sklearn.metrics import mean_squared_error\n",
        "from sklearn.datasets import load_breast_cancer\n",
        "from sklearn.linear_model import LogisticRegression\n",
        "\n",
        "\n",
        "data_url = \"http://lib.stat.cmu.edu/datasets/boston\"\n",
        "raw_df = pd.read_csv(data_url, sep=\"\\s+\", skiprows=22, header=None)\n",
        "data = np.hstack([raw_df.values[::2, :], raw_df.values[1::2, :2]])\n",
        "target = raw_df.values[1::2, 2]"
      ],
      "metadata": {
        "id": "HSXgNEbJAdSF"
      },
      "execution_count": 57,
      "outputs": []
    },
    {
      "cell_type": "code",
      "source": [
        "print(raw_df.keys())\n",
        "print(raw_df.shape)\n",
        "print(raw_df.describe())\n",
        "X = data\n",
        "y = target"
      ],
      "metadata": {
        "colab": {
          "base_uri": "https://localhost:8080/"
        },
        "id": "-69jWPfCBGe4",
        "outputId": "56024fd9-a321-4db1-9db1-9ffaaf0a3058"
      },
      "execution_count": 58,
      "outputs": [
        {
          "output_type": "stream",
          "name": "stdout",
          "text": [
            "Int64Index([0, 1, 2, 3, 4, 5, 6, 7, 8, 9, 10], dtype='int64')\n",
            "(1012, 11)\n",
            "                0            1            2           3           4   \\\n",
            "count  1012.000000  1012.000000  1012.000000  506.000000  506.000000   \n",
            "mean    180.143778    12.008350    16.834792    0.069170    0.554695   \n",
            "std     188.132839    17.250728     9.912616    0.253994    0.115878   \n",
            "min       0.006320     0.000000     0.460000    0.000000    0.385000   \n",
            "25%       0.257830     0.000000     8.375000    0.000000    0.449000   \n",
            "50%      24.021000     7.240000    18.100000    0.000000    0.538000   \n",
            "75%     391.435000    16.780000    21.890000    0.000000    0.624000   \n",
            "max     396.900000   100.000000    50.000000    1.000000    0.871000   \n",
            "\n",
            "               5           6           7           8           9           10  \n",
            "count  506.000000  506.000000  506.000000  506.000000  506.000000  506.000000  \n",
            "mean     6.284634   68.574901    3.795043    9.549407  408.237154   18.455534  \n",
            "std      0.702617   28.148861    2.105710    8.707259  168.537116    2.164946  \n",
            "min      3.561000    2.900000    1.129600    1.000000  187.000000   12.600000  \n",
            "25%      5.885500   45.025000    2.100175    4.000000  279.000000   17.400000  \n",
            "50%      6.208500   77.500000    3.207450    5.000000  330.000000   19.050000  \n",
            "75%      6.623500   94.075000    5.188425   24.000000  666.000000   20.200000  \n",
            "max      8.780000  100.000000   12.126500   24.000000  711.000000   22.000000  \n"
          ]
        }
      ]
    },
    {
      "cell_type": "code",
      "source": [
        "X_train, X_test, y_train, y_test = train_test_split(X, y, test_size=0.2, random_state=15)"
      ],
      "metadata": {
        "id": "3aSjPxM5A8Uw"
      },
      "execution_count": 59,
      "outputs": []
    },
    {
      "cell_type": "code",
      "source": [
        "print(X.shape[0])\n",
        "print(float(X_train.shape[0]) / float(X.shape[0]))\n",
        "print(float(X_test.shape[0]) / float(X.shape[0]))"
      ],
      "metadata": {
        "colab": {
          "base_uri": "https://localhost:8080/"
        },
        "id": "joSnxj1iB7tS",
        "outputId": "d8a12ab7-a426-4deb-d499-3ad8fec787c7"
      },
      "execution_count": 60,
      "outputs": [
        {
          "output_type": "stream",
          "name": "stdout",
          "text": [
            "506\n",
            "0.7984189723320159\n",
            "0.2015810276679842\n"
          ]
        }
      ]
    },
    {
      "cell_type": "code",
      "source": [
        "regr = linear_model.LinearRegression()\n",
        "regr.fit(X_train, y_train)\n",
        "Y_pred = regr.predict(X_test)"
      ],
      "metadata": {
        "id": "OEvluLfPCb-N"
      },
      "execution_count": 61,
      "outputs": []
    },
    {
      "cell_type": "code",
      "source": [
        "plt.scatter(y_test, Y_pred)\n",
        "plt.xlabel(\"Prices: $Y_i$\")\n",
        "plt.ylabel(\"Predicted prices: $\\hat{Y}_i$\")\n",
        "plt.title(\"Prices vs Predicted prices: $Y_i$ vs $\\hat{Y}_i$\")"
      ],
      "metadata": {
        "colab": {
          "base_uri": "https://localhost:8080/",
          "height": 322
        },
        "id": "7FcK6LRcCD_U",
        "outputId": "64f68d9b-3a21-4f0d-9c6d-a66055576046"
      },
      "execution_count": 62,
      "outputs": [
        {
          "output_type": "execute_result",
          "data": {
            "text/plain": [
              "Text(0.5, 1.0, 'Prices vs Predicted prices: $Y_i$ vs $\\\\hat{Y}_i$')"
            ]
          },
          "metadata": {},
          "execution_count": 62
        },
        {
          "output_type": "display_data",
          "data": {
            "text/plain": [
              "<Figure size 432x288 with 1 Axes>"
            ],
            "image/png": "[encoded data removed]"
          },
          "metadata": {
            "needs_background": "light"
          }
        }
      ]
    },
    {
      "cell_type": "code",
      "source": [
        "mean_squared_error(y_test, Y_pred)"
      ],
      "metadata": {
        "colab": {
          "base_uri": "https://localhost:8080/"
        },
        "id": "HID230N_FbW_",
        "outputId": "349b543e-7a70-4522-8737-efdc87b21f47"
      },
      "execution_count": 63,
      "outputs": [
        {
          "output_type": "execute_result",
          "data": {
            "text/plain": [
              "23.812245465080732"
            ]
          },
          "metadata": {},
          "execution_count": 63
        }
      ]
    },
    {
      "cell_type": "code",
      "source": [],
      "metadata": {
        "id": "rptsSnT6LSk-"
      },
      "execution_count": 63,
      "outputs": []
    },
    {
      "cell_type": "code",
      "source": [
        "scaler = StandardScaler()"
      ],
      "metadata": {
        "id": "a4A5PqryF-s2"
      },
      "execution_count": 64,
      "outputs": []
    },
    {
      "cell_type": "code",
      "source": [
        "polynomial_features= PolynomialFeatures(degree=2)"
      ],
      "metadata": {
        "id": "yv8ztEE5EMXW"
      },
      "execution_count": 65,
      "outputs": []
    },
    {
      "cell_type": "code",
      "source": [
        "X2 = polynomial_features.fit_transform(X, y)"
      ],
      "metadata": {
        "id": "koNLxTiwGXxG"
      },
      "execution_count": 66,
      "outputs": []
    },
    {
      "cell_type": "code",
      "source": [
        "X_train, X_test, y_train, y_test = train_test_split(X2, y, test_size=0.2, random_state=15)"
      ],
      "metadata": {
        "id": "Rr2sxzWuGf9u"
      },
      "execution_count": 67,
      "outputs": []
    },
    {
      "cell_type": "code",
      "source": [
        "print(X.shape[0])\n",
        "print(float(X_train.shape[0]) / float(X.shape[0]))\n",
        "print(float(X_test.shape[0]) / float(X.shape[0]))"
      ],
      "metadata": {
        "colab": {
          "base_uri": "https://localhost:8080/"
        },
        "id": "KEuuYYMUH22w",
        "outputId": "eba72ad5-4259-464d-d79d-745f0b97004d"
      },
      "execution_count": 68,
      "outputs": [
        {
          "output_type": "stream",
          "name": "stdout",
          "text": [
            "506\n",
            "0.7984189723320159\n",
            "0.2015810276679842\n"
          ]
        }
      ]
    },
    {
      "cell_type": "code",
      "source": [
        "regr = linear_model.LinearRegression()\n",
        "regr.fit(X_train, y_train)\n",
        "Y_pred = regr.predict(X_test)\n",
        "plt.scatter(y_test, Y_pred)\n",
        "plt.xlabel(\"Prices: $Y_i$\")\n",
        "plt.ylabel(\"Predicted prices: $\\hat{Y}_i$\")\n",
        "plt.title(\"Prices vs Predicted prices: $Y_i$ vs $\\hat{Y}_i$\")"
      ],
      "metadata": {
        "colab": {
          "base_uri": "https://localhost:8080/",
          "height": 322
        },
        "id": "t72jfZwPIEpA",
        "outputId": "8ad20788-e656-4a1a-8b02-fe852865b28b"
      },
      "execution_count": 69,
      "outputs": [
        {
          "output_type": "execute_result",
          "data": {
            "text/plain": [
              "Text(0.5, 1.0, 'Prices vs Predicted prices: $Y_i$ vs $\\\\hat{Y}_i$')"
            ]
          },
          "metadata": {},
          "execution_count": 69
        },
        {
          "output_type": "display_data",
          "data": {
            "text/plain": [
              "<Figure size 432x288 with 1 Axes>"
            ],
            "image/png": "[encoded data removed]"
          },
          "metadata": {
            "needs_background": "light"
          }
        }
      ]
    },
    {
      "cell_type": "code",
      "source": [
        "mean_squared_error(y_test, Y_pred)"
      ],
      "metadata": {
        "colab": {
          "base_uri": "https://localhost:8080/"
        },
        "id": "HrSIutOtIJ9J",
        "outputId": "6d58b28d-26d4-4fb1-86d0-1a79c550160b"
      },
      "execution_count": 70,
      "outputs": [
        {
          "output_type": "execute_result",
          "data": {
            "text/plain": [
              "10.418718229955315"
            ]
          },
          "metadata": {},
          "execution_count": 70
        }
      ]
    },
    {
      "cell_type": "code",
      "source": [
        "alpha = [0.001, 0.01, 0.05, 0.1, 0.2, 0.3, 0.5]\n",
        "score = []\n",
        "\n",
        "for i in alpha:\n",
        "  X_train, X_test, y_train, y_test = train_test_split(X, y, test_size=0.2, random_state=15)\n",
        "  regr = linear_model.Lasso(alpha=i)\n",
        "  regr.fit(X_train, y_train)\n",
        "  Y_pred = regr.predict(X_test)\n",
        "  score.append(mean_squared_error(y_test, Y_pred))\n",
        "\n",
        "plt.plot(alpha, score)  \n",
        "\n",
        "# alpha = 0.2 is the best \n"
      ],
      "metadata": {
        "colab": {
          "base_uri": "https://localhost:8080/",
          "height": 282
        },
        "id": "Ul1aMrDsLe49",
        "outputId": "47b320a6-d01e-4fed-efc2-8c2b957fa53f"
      },
      "execution_count": 71,
      "outputs": [
        {
          "output_type": "execute_result",
          "data": {
            "text/plain": [
              "[<matplotlib.lines.Line2D at 0x7f3e04597f70>]"
            ]
          },
          "metadata": {},
          "execution_count": 71
        },
        {
          "output_type": "display_data",
          "data": {
            "text/plain": [
              "<Figure size 432x288 with 1 Axes>"
            ],
            "image/png": "[encoded data removed]"
          },
          "metadata": {
            "needs_background": "light"
          }
        }
      ]
    },
    {
      "cell_type": "code",
      "source": [
        "X_train, X_test, y_train, y_test = train_test_split(X, y, test_size=0.2, random_state=15)\n",
        "regr = linear_model.Lasso(alpha=0.2)\n",
        "regr.fit(X_train, y_train)\n",
        "Y_pred = regr.predict(X_test)\n",
        "plt.scatter(y_test, Y_pred)\n",
        "plt.xlabel(\"Prices: $Y_i$\")\n",
        "plt.ylabel(\"Predicted prices: $\\hat{Y}_i$\")\n",
        "plt.title(\"Prices vs Predicted prices: $Y_i$ vs $\\hat{Y}_i$\")\n",
        "score.append(mean_squared_error(y_test, Y_pred))"
      ],
      "metadata": {
        "colab": {
          "base_uri": "https://localhost:8080/",
          "height": 305
        },
        "id": "FYi3trcIMyUT",
        "outputId": "f8f787a0-58f0-4cee-a24e-b98db8578309"
      },
      "execution_count": 72,
      "outputs": [
        {
          "output_type": "display_data",
          "data": {
            "text/plain": [
              "<Figure size 432x288 with 1 Axes>"
            ],
            "image/png": "[encoded data removed]"
          },
          "metadata": {
            "needs_background": "light"
          }
        }
      ]
    },
    {
      "cell_type": "code",
      "source": [
        "alpha = [ 1.5, 5, 10, 15, 20, 30, 50]\n",
        "score = []\n",
        "\n",
        "for i in alpha:\n",
        "  X_train, X_test, y_train, y_test = train_test_split(X, y, test_size=0.2, random_state=15)\n",
        "  regr = linear_model.Ridge(alpha=i)\n",
        "  regr.fit(X_train, y_train)\n",
        "  Y_pred = regr.predict(X_test)\n",
        "  score.append(mean_squared_error(y_test, Y_pred))\n",
        "\n",
        "plt.plot(alpha, score)  \n",
        "\n",
        "#najmniejszy blad dla alpha = 20"
      ],
      "metadata": {
        "colab": {
          "base_uri": "https://localhost:8080/",
          "height": 286
        },
        "id": "TrXff5ReMfaa",
        "outputId": "90e86a07-ff3d-4001-f75e-81a702f324f7"
      },
      "execution_count": 73,
      "outputs": [
        {
          "output_type": "execute_result",
          "data": {
            "text/plain": [
              "[<matplotlib.lines.Line2D at 0x7f3e04110310>]"
            ]
          },
          "metadata": {},
          "execution_count": 73
        },
        {
          "output_type": "display_data",
          "data": {
            "text/plain": [
              "<Figure size 432x288 with 1 Axes>"
            ],
            "image/png": "[encoded data removed]"
          },
          "metadata": {
            "needs_background": "light"
          }
        }
      ]
    },
    {
      "cell_type": "code",
      "source": [
        "X_train, X_test, y_train, y_test = train_test_split(X, y, test_size=0.2, random_state=15)\n",
        "regr = linear_model.Ridge(alpha=20)\n",
        "regr.fit(X_train, y_train)\n",
        "Y_pred = regr.predict(X_test)\n",
        "plt.scatter(y_test, Y_pred)\n",
        "plt.xlabel(\"Prices: $Y_i$\")\n",
        "plt.ylabel(\"Predicted prices: $\\hat{Y}_i$\")\n",
        "plt.title(\"Prices vs Predicted prices: $Y_i$ vs $\\hat{Y}_i$\")\n",
        "score.append(mean_squared_error(y_test, Y_pred))"
      ],
      "metadata": {
        "colab": {
          "base_uri": "https://localhost:8080/",
          "height": 305
        },
        "id": "Qg4Gzi_uNVva",
        "outputId": "29321a2c-78a1-4ad0-cf29-8634c951fc5d"
      },
      "execution_count": 74,
      "outputs": [
        {
          "output_type": "display_data",
          "data": {
            "text/plain": [
              "<Figure size 432x288 with 1 Axes>"
            ],
            "image/png": "[encoded data removed]"
          },
          "metadata": {
            "needs_background": "light"
          }
        }
      ]
    },
    {
      "cell_type": "code",
      "source": [
        "# Cwiczenie ze zbiorem A\n",
        "from sklearn.datasets import load_breast_cancer\n",
        "data = load_breast_cancer()\n",
        " \n",
        "y = data.target\n",
        "X = data.data"
      ],
      "metadata": {
        "id": "x3DBjDOgyn4X"
      },
      "execution_count": 75,
      "outputs": []
    },
    {
      "cell_type": "code",
      "source": [
        "X_train, X_test, y_train, y_test = train_test_split(X, y, test_size=0.3)\n",
        "regr = LogisticRegression(penalty = 'l2', max_iter=150, C=1)\n",
        "regr.fit(X_train, y_train)\n",
        "\n",
        "alpha = [0.0001, 0.001, 0.01, 0.1, 1]\n",
        "score = []\n",
        "\n",
        "for i in alpha:\n",
        "  X_train, X_test, y_train, y_test = train_test_split(X, y, test_size=0.2, random_state=15)\n",
        "  regr = linear_model.Ridge(alpha=i)\n",
        "  regr.fit(X_train, y_train)\n",
        "  Y_pred = regr.predict(X_test)\n",
        "  score.append(mean_squared_error(y_test, Y_pred))\n",
        "\n",
        "plt.plot(alpha, score)  \n",
        "plt.show()"
      ],
      "metadata": {
        "colab": {
          "base_uri": "https://localhost:8080/",
          "height": 404
        },
        "id": "5bfUesP0yzXK",
        "outputId": "08bc4b84-f29a-46e8-ee3d-b546f52de133"
      },
      "execution_count": 76,
      "outputs": [
        {
          "output_type": "stream",
          "name": "stderr",
          "text": [
            "/usr/local/lib/python3.9/dist-packages/sklearn/linear_model/_logistic.py:458: ConvergenceWarning: lbfgs failed to converge (status=1):\n",
            "STOP: TOTAL NO. of ITERATIONS REACHED LIMIT.\n",
            "\n",
            "Increase the number of iterations (max_iter) or scale the data as shown in:\n",
            "    https://scikit-learn.org/stable/modules/preprocessing.html\n",
            "Please also refer to the documentation for alternative solver options:\n",
            "    https://scikit-learn.org/stable/modules/linear_model.html#logistic-regression\n",
            "  n_iter_i = _check_optimize_result(\n"
          ]
        },
        {
          "output_type": "display_data",
          "data": {
            "text/plain": [
              "<Figure size 432x288 with 1 Axes>"
            ],
            "image/png": "[encoded data removed]"
          },
          "metadata": {
            "needs_background": "light"
          }
        }
      ]
    }
  ]
}