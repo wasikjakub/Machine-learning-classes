{
  "nbformat": 4,
  "nbformat_minor": 0,
  "metadata": {
    "colab": {
      "provenance": []
    },
    "kernelspec": {
      "name": "python3",
      "display_name": "Python 3"
    },
    "language_info": {
      "name": "python"
    }
  },
  "cells": [
    {
      "cell_type": "code",
      "source": [
        "import numpy as np\n",
        "import pandas as pd\n",
        "import matplotlib.pyplot as plt\n",
        " \n",
        "import os\n",
        "path = os.getcwd() + '/ex2data1.txt'\n",
        "data = pd.read_csv(path, header=None, names=['Exam 1', 'Exam 2', 'Admitted'])"
      ],
      "metadata": {
        "id": "7lGYrj1w9tzJ"
      },
      "execution_count": 23,
      "outputs": []
    },
    {
      "cell_type": "code",
      "source": [
        "#zad 1\n",
        "data.head()"
      ],
      "metadata": {
        "colab": {
          "base_uri": "https://localhost:8080/",
          "height": 206
        },
        "id": "y4JuVLty_Q1d",
        "outputId": "7084f8c5-c80d-4fad-c987-0f83d34bc37c"
      },
      "execution_count": 24,
      "outputs": [
        {
          "output_type": "execute_result",
          "data": {
            "text/plain": [
              "      Exam 1     Exam 2  Admitted\n",
              "0  34.623660  78.024693         0\n",
              "1  30.286711  43.894998         0\n",
              "2  35.847409  72.902198         0\n",
              "3  60.182599  86.308552         1\n",
              "4  79.032736  75.344376         1"
            ],
            "text/html": [
              "\n",
              "  <div id=\"df-41977cbf-a886-45fd-95fd-d0414b9346b2\">\n",
              "    <div class=\"colab-df-container\">\n",
              "      <div>\n",
              "<style scoped>\n",
              "    .dataframe tbody tr th:only-of-type {\n",
              "        vertical-align: middle;\n",
              "    }\n",
              "\n",
              "    .dataframe tbody tr th {\n",
              "        vertical-align: top;\n",
              "    }\n",
              "\n",
              "    .dataframe thead th {\n",
              "        text-align: right;\n",
              "    }\n",
              "</style>\n",
              "<table border=\"1\" class=\"dataframe\">\n",
              "  <thead>\n",
              "    <tr style=\"text-align: right;\">\n",
              "      <th></th>\n",
              "      <th>Exam 1</th>\n",
              "      <th>Exam 2</th>\n",
              "      <th>Admitted</th>\n",
              "    </tr>\n",
              "  </thead>\n",
              "  <tbody>\n",
              "    <tr>\n",
              "      <th>0</th>\n",
              "      <td>34.623660</td>\n",
              "      <td>78.024693</td>\n",
              "      <td>0</td>\n",
              "    </tr>\n",
              "    <tr>\n",
              "      <th>1</th>\n",
              "      <td>30.286711</td>\n",
              "      <td>43.894998</td>\n",
              "      <td>0</td>\n",
              "    </tr>\n",
              "    <tr>\n",
              "      <th>2</th>\n",
              "      <td>35.847409</td>\n",
              "      <td>72.902198</td>\n",
              "      <td>0</td>\n",
              "    </tr>\n",
              "    <tr>\n",
              "      <th>3</th>\n",
              "      <td>60.182599</td>\n",
              "      <td>86.308552</td>\n",
              "      <td>1</td>\n",
              "    </tr>\n",
              "    <tr>\n",
              "      <th>4</th>\n",
              "      <td>79.032736</td>\n",
              "      <td>75.344376</td>\n",
              "      <td>1</td>\n",
              "    </tr>\n",
              "  </tbody>\n",
              "</table>\n",
              "</div>\n",
              "      <button class=\"colab-df-convert\" onclick=\"convertToInteractive('df-41977cbf-a886-45fd-95fd-d0414b9346b2')\"\n",
              "              title=\"Convert this dataframe to an interactive table.\"\n",
              "              style=\"display:none;\">\n",
              "        \n",
              "  <svg xmlns=\"http://www.w3.org/2000/svg\" height=\"24px\"viewBox=\"0 0 24 24\"\n",
              "       width=\"24px\">\n",
              "    <path d=\"M0 0h24v24H0V0z\" fill=\"none\"/>\n",
              "    <path d=\"M18.56 5.44l.94 2.06.94-2.06 2.06-.94-2.06-.94-.94-2.06-.94 2.06-2.06.94zm-11 1L8.5 8.5l.94-2.06 2.06-.94-2.06-.94L8.5 2.5l-.94 2.06-2.06.94zm10 10l.94 2.06.94-2.06 2.06-.94-2.06-.94-.94-2.06-.94 2.06-2.06.94z\"/><path d=\"M17.41 7.96l-1.37-1.37c-.4-.4-.92-.59-1.43-.59-.52 0-1.04.2-1.43.59L10.3 9.45l-7.72 7.72c-.78.78-.78 2.05 0 2.83L4 21.41c.39.39.9.59 1.41.59.51 0 1.02-.2 1.41-.59l7.78-7.78 2.81-2.81c.8-.78.8-2.07 0-2.86zM5.41 20L4 18.59l7.72-7.72 1.47 1.35L5.41 20z\"/>\n",
              "  </svg>\n",
              "      </button>\n",
              "      \n",
              "  <style>\n",
              "    .colab-df-container {\n",
              "      display:flex;\n",
              "      flex-wrap:wrap;\n",
              "      gap: 12px;\n",
              "    }\n",
              "\n",
              "    .colab-df-convert {\n",
              "      background-color: #E8F0FE;\n",
              "      border: none;\n",
              "      border-radius: 50%;\n",
              "      cursor: pointer;\n",
              "      display: none;\n",
              "      fill: #1967D2;\n",
              "      height: 32px;\n",
              "      padding: 0 0 0 0;\n",
              "      width: 32px;\n",
              "    }\n",
              "\n",
              "    .colab-df-convert:hover {\n",
              "      background-color: #E2EBFA;\n",
              "      box-shadow: 0px 1px 2px rgba(60, 64, 67, 0.3), 0px 1px 3px 1px rgba(60, 64, 67, 0.15);\n",
              "      fill: #174EA6;\n",
              "    }\n",
              "\n",
              "    [theme=dark] .colab-df-convert {\n",
              "      background-color: #3B4455;\n",
              "      fill: #D2E3FC;\n",
              "    }\n",
              "\n",
              "    [theme=dark] .colab-df-convert:hover {\n",
              "      background-color: #434B5C;\n",
              "      box-shadow: 0px 1px 3px 1px rgba(0, 0, 0, 0.15);\n",
              "      filter: drop-shadow(0px 1px 2px rgba(0, 0, 0, 0.3));\n",
              "      fill: #FFFFFF;\n",
              "    }\n",
              "  </style>\n",
              "\n",
              "      <script>\n",
              "        const buttonEl =\n",
              "          document.querySelector('#df-41977cbf-a886-45fd-95fd-d0414b9346b2 button.colab-df-convert');\n",
              "        buttonEl.style.display =\n",
              "          google.colab.kernel.accessAllowed ? 'block' : 'none';\n",
              "\n",
              "        async function convertToInteractive(key) {\n",
              "          const element = document.querySelector('#df-41977cbf-a886-45fd-95fd-d0414b9346b2');\n",
              "          const dataTable =\n",
              "            await google.colab.kernel.invokeFunction('convertToInteractive',\n",
              "                                                     [key], {});\n",
              "          if (!dataTable) return;\n",
              "\n",
              "          const docLinkHtml = 'Like what you see? Visit the ' +\n",
              "            '<a target=\"_blank\" href=https://colab.research.google.com/notebooks/data_table.ipynb>data table notebook</a>'\n",
              "            + ' to learn more about interactive tables.';\n",
              "          element.innerHTML = '';\n",
              "          dataTable['output_type'] = 'display_data';\n",
              "          await google.colab.output.renderOutput(dataTable, element);\n",
              "          const docLink = document.createElement('div');\n",
              "          docLink.innerHTML = docLinkHtml;\n",
              "          element.appendChild(docLink);\n",
              "        }\n",
              "      </script>\n",
              "    </div>\n",
              "  </div>\n",
              "  "
            ]
          },
          "metadata": {},
          "execution_count": 24
        }
      ]
    },
    {
      "cell_type": "code",
      "source": [
        "data.describe()"
      ],
      "metadata": {
        "colab": {
          "base_uri": "https://localhost:8080/",
          "height": 300
        },
        "id": "xv1EkePt_TS9",
        "outputId": "0e420cd8-3150-4ee1-afd2-bfa7c167547a"
      },
      "execution_count": 25,
      "outputs": [
        {
          "output_type": "execute_result",
          "data": {
            "text/plain": [
              "           Exam 1      Exam 2    Admitted\n",
              "count  100.000000  100.000000  100.000000\n",
              "mean    65.644274   66.221998    0.600000\n",
              "std     19.458222   18.582783    0.492366\n",
              "min     30.058822   30.603263    0.000000\n",
              "25%     50.919511   48.179205    0.000000\n",
              "50%     67.032988   67.682381    1.000000\n",
              "75%     80.212529   79.360605    1.000000\n",
              "max     99.827858   98.869436    1.000000"
            ],
            "text/html": [
              "\n",
              "  <div id=\"df-6e02acb9-2db1-4154-9049-9b3eeb5adbd3\">\n",
              "    <div class=\"colab-df-container\">\n",
              "      <div>\n",
              "<style scoped>\n",
              "    .dataframe tbody tr th:only-of-type {\n",
              "        vertical-align: middle;\n",
              "    }\n",
              "\n",
              "    .dataframe tbody tr th {\n",
              "        vertical-align: top;\n",
              "    }\n",
              "\n",
              "    .dataframe thead th {\n",
              "        text-align: right;\n",
              "    }\n",
              "</style>\n",
              "<table border=\"1\" class=\"dataframe\">\n",
              "  <thead>\n",
              "    <tr style=\"text-align: right;\">\n",
              "      <th></th>\n",
              "      <th>Exam 1</th>\n",
              "      <th>Exam 2</th>\n",
              "      <th>Admitted</th>\n",
              "    </tr>\n",
              "  </thead>\n",
              "  <tbody>\n",
              "    <tr>\n",
              "      <th>count</th>\n",
              "      <td>100.000000</td>\n",
              "      <td>100.000000</td>\n",
              "      <td>100.000000</td>\n",
              "    </tr>\n",
              "    <tr>\n",
              "      <th>mean</th>\n",
              "      <td>65.644274</td>\n",
              "      <td>66.221998</td>\n",
              "      <td>0.600000</td>\n",
              "    </tr>\n",
              "    <tr>\n",
              "      <th>std</th>\n",
              "      <td>19.458222</td>\n",
              "      <td>18.582783</td>\n",
              "      <td>0.492366</td>\n",
              "    </tr>\n",
              "    <tr>\n",
              "      <th>min</th>\n",
              "      <td>30.058822</td>\n",
              "      <td>30.603263</td>\n",
              "      <td>0.000000</td>\n",
              "    </tr>\n",
              "    <tr>\n",
              "      <th>25%</th>\n",
              "      <td>50.919511</td>\n",
              "      <td>48.179205</td>\n",
              "      <td>0.000000</td>\n",
              "    </tr>\n",
              "    <tr>\n",
              "      <th>50%</th>\n",
              "      <td>67.032988</td>\n",
              "      <td>67.682381</td>\n",
              "      <td>1.000000</td>\n",
              "    </tr>\n",
              "    <tr>\n",
              "      <th>75%</th>\n",
              "      <td>80.212529</td>\n",
              "      <td>79.360605</td>\n",
              "      <td>1.000000</td>\n",
              "    </tr>\n",
              "    <tr>\n",
              "      <th>max</th>\n",
              "      <td>99.827858</td>\n",
              "      <td>98.869436</td>\n",
              "      <td>1.000000</td>\n",
              "    </tr>\n",
              "  </tbody>\n",
              "</table>\n",
              "</div>\n",
              "      <button class=\"colab-df-convert\" onclick=\"convertToInteractive('df-6e02acb9-2db1-4154-9049-9b3eeb5adbd3')\"\n",
              "              title=\"Convert this dataframe to an interactive table.\"\n",
              "              style=\"display:none;\">\n",
              "        \n",
              "  <svg xmlns=\"http://www.w3.org/2000/svg\" height=\"24px\"viewBox=\"0 0 24 24\"\n",
              "       width=\"24px\">\n",
              "    <path d=\"M0 0h24v24H0V0z\" fill=\"none\"/>\n",
              "    <path d=\"M18.56 5.44l.94 2.06.94-2.06 2.06-.94-2.06-.94-.94-2.06-.94 2.06-2.06.94zm-11 1L8.5 8.5l.94-2.06 2.06-.94-2.06-.94L8.5 2.5l-.94 2.06-2.06.94zm10 10l.94 2.06.94-2.06 2.06-.94-2.06-.94-.94-2.06-.94 2.06-2.06.94z\"/><path d=\"M17.41 7.96l-1.37-1.37c-.4-.4-.92-.59-1.43-.59-.52 0-1.04.2-1.43.59L10.3 9.45l-7.72 7.72c-.78.78-.78 2.05 0 2.83L4 21.41c.39.39.9.59 1.41.59.51 0 1.02-.2 1.41-.59l7.78-7.78 2.81-2.81c.8-.78.8-2.07 0-2.86zM5.41 20L4 18.59l7.72-7.72 1.47 1.35L5.41 20z\"/>\n",
              "  </svg>\n",
              "      </button>\n",
              "      \n",
              "  <style>\n",
              "    .colab-df-container {\n",
              "      display:flex;\n",
              "      flex-wrap:wrap;\n",
              "      gap: 12px;\n",
              "    }\n",
              "\n",
              "    .colab-df-convert {\n",
              "      background-color: #E8F0FE;\n",
              "      border: none;\n",
              "      border-radius: 50%;\n",
              "      cursor: pointer;\n",
              "      display: none;\n",
              "      fill: #1967D2;\n",
              "      height: 32px;\n",
              "      padding: 0 0 0 0;\n",
              "      width: 32px;\n",
              "    }\n",
              "\n",
              "    .colab-df-convert:hover {\n",
              "      background-color: #E2EBFA;\n",
              "      box-shadow: 0px 1px 2px rgba(60, 64, 67, 0.3), 0px 1px 3px 1px rgba(60, 64, 67, 0.15);\n",
              "      fill: #174EA6;\n",
              "    }\n",
              "\n",
              "    [theme=dark] .colab-df-convert {\n",
              "      background-color: #3B4455;\n",
              "      fill: #D2E3FC;\n",
              "    }\n",
              "\n",
              "    [theme=dark] .colab-df-convert:hover {\n",
              "      background-color: #434B5C;\n",
              "      box-shadow: 0px 1px 3px 1px rgba(0, 0, 0, 0.15);\n",
              "      filter: drop-shadow(0px 1px 2px rgba(0, 0, 0, 0.3));\n",
              "      fill: #FFFFFF;\n",
              "    }\n",
              "  </style>\n",
              "\n",
              "      <script>\n",
              "        const buttonEl =\n",
              "          document.querySelector('#df-6e02acb9-2db1-4154-9049-9b3eeb5adbd3 button.colab-df-convert');\n",
              "        buttonEl.style.display =\n",
              "          google.colab.kernel.accessAllowed ? 'block' : 'none';\n",
              "\n",
              "        async function convertToInteractive(key) {\n",
              "          const element = document.querySelector('#df-6e02acb9-2db1-4154-9049-9b3eeb5adbd3');\n",
              "          const dataTable =\n",
              "            await google.colab.kernel.invokeFunction('convertToInteractive',\n",
              "                                                     [key], {});\n",
              "          if (!dataTable) return;\n",
              "\n",
              "          const docLinkHtml = 'Like what you see? Visit the ' +\n",
              "            '<a target=\"_blank\" href=https://colab.research.google.com/notebooks/data_table.ipynb>data table notebook</a>'\n",
              "            + ' to learn more about interactive tables.';\n",
              "          element.innerHTML = '';\n",
              "          dataTable['output_type'] = 'display_data';\n",
              "          await google.colab.output.renderOutput(dataTable, element);\n",
              "          const docLink = document.createElement('div');\n",
              "          docLink.innerHTML = docLinkHtml;\n",
              "          element.appendChild(docLink);\n",
              "        }\n",
              "      </script>\n",
              "    </div>\n",
              "  </div>\n",
              "  "
            ]
          },
          "metadata": {},
          "execution_count": 25
        }
      ]
    },
    {
      "cell_type": "code",
      "source": [
        "X = data.values[:, :2].T\n",
        "y = data.values[:, 2:].T"
      ],
      "metadata": {
        "id": "kEiTtlwG_g4e"
      },
      "execution_count": 26,
      "outputs": []
    },
    {
      "cell_type": "code",
      "source": [
        "theta = np.zeros((X.shape[0]+1, 1))"
      ],
      "metadata": {
        "id": "HVTsRP6R_lZd"
      },
      "execution_count": 27,
      "outputs": []
    },
    {
      "cell_type": "code",
      "source": [
        "X = np.concatenate([np.ones([1, X.shape[1]]), X])"
      ],
      "metadata": {
        "id": "QWiQ0Q9-_nKF"
      },
      "execution_count": 28,
      "outputs": []
    },
    {
      "cell_type": "code",
      "source": [
        "for i in range(1, X.shape[0]):\n",
        "    X[i, :] = (X[i, :] - np.mean(X[i, :])) / (np.std(X[i, :]))"
      ],
      "metadata": {
        "id": "C2UmEI9G_pDd"
      },
      "execution_count": 29,
      "outputs": []
    },
    {
      "cell_type": "code",
      "source": [
        "X.shape"
      ],
      "metadata": {
        "colab": {
          "base_uri": "https://localhost:8080/"
        },
        "id": "GiheFolZAUAN",
        "outputId": "e97c9ec4-0ece-45af-85e8-b0142212dffb"
      },
      "execution_count": 30,
      "outputs": [
        {
          "output_type": "execute_result",
          "data": {
            "text/plain": [
              "(3, 100)"
            ]
          },
          "metadata": {},
          "execution_count": 30
        }
      ]
    },
    {
      "cell_type": "code",
      "source": [
        "y.shape"
      ],
      "metadata": {
        "colab": {
          "base_uri": "https://localhost:8080/"
        },
        "id": "KRCjXHUsAV4s",
        "outputId": "eea35941-8167-49b2-fa77-0baeec76f5dc"
      },
      "execution_count": 31,
      "outputs": [
        {
          "output_type": "execute_result",
          "data": {
            "text/plain": [
              "(1, 100)"
            ]
          },
          "metadata": {},
          "execution_count": 31
        }
      ]
    },
    {
      "cell_type": "code",
      "source": [
        "theta.shape"
      ],
      "metadata": {
        "colab": {
          "base_uri": "https://localhost:8080/"
        },
        "id": "HaanMujPAYrk",
        "outputId": "16e67b69-b87f-42a4-f1b2-106516b968ea"
      },
      "execution_count": 32,
      "outputs": [
        {
          "output_type": "execute_result",
          "data": {
            "text/plain": [
              "(3, 1)"
            ]
          },
          "metadata": {},
          "execution_count": 32
        }
      ]
    },
    {
      "cell_type": "code",
      "source": [
        "import matplotlib.patches as mpatches"
      ],
      "metadata": {
        "id": "-pmXgOpXGUcf"
      },
      "execution_count": 33,
      "outputs": []
    },
    {
      "cell_type": "code",
      "source": [
        "#zad 2\n",
        "area1 = np.ma.masked_where(data['Admitted'] == 1, data['Exam 1'])\n",
        "area2 = np.ma.masked_where(data['Admitted'] == 0, data['Exam 2'])\n",
        "plt.figure(figsize=(12,5))\n",
        "plt.scatter(data['Exam 1'], data['Exam 2'], s=area1, c='r', marker='*')\n",
        "plt.scatter(data['Exam 1'], data['Exam 2'], s=area2, c='g', marker='+')\n",
        "plt.ylabel('Exam 2 score')\n",
        "plt.xlabel('Exam 1 score')\n",
        "admitted = mpatches.Patch(color='g', label='Admitted')\n",
        "Nadmitted = mpatches.Patch(color='r', label='Not admitted')\n",
        "plt.legend(handles=[admitted, Nadmitted])\n",
        "plt.show()"
      ],
      "metadata": {
        "colab": {
          "base_uri": "https://localhost:8080/",
          "height": 334
        },
        "id": "I2bIUWkr_u1N",
        "outputId": "8fd0be97-ed02-4504-97eb-1f1e1856cf22"
      },
      "execution_count": 34,
      "outputs": [
        {
          "output_type": "display_data",
          "data": {
            "text/plain": [
              "<Figure size 864x360 with 1 Axes>"
            ],
            "image/png": "[encoded data removed]"
          },
          "metadata": {
            "needs_background": "light"
          }
        }
      ]
    },
    {
      "cell_type": "code",
      "source": [
        "#zad 3\n",
        "def sig(t):\n",
        "  return 1/(1+(np.e)**(-t))\n",
        "\n",
        "def h(X, theta):\n",
        "  return sig(theta.T @ X)"
      ],
      "metadata": {
        "id": "7Qh5T1qlHWFX"
      },
      "execution_count": 35,
      "outputs": []
    },
    {
      "cell_type": "code",
      "source": [
        "#zad 4\n",
        "vec = np.linspace(-5, 5, 21)\n",
        "plot = sig(vec)\n",
        "plt.plot(vec, plot) \n",
        "plt.show()"
      ],
      "metadata": {
        "colab": {
          "base_uri": "https://localhost:8080/",
          "height": 265
        },
        "id": "OPv3BlyNHqIv",
        "outputId": "b55df363-9da9-489b-f698-a0d731969acd"
      },
      "execution_count": 36,
      "outputs": [
        {
          "output_type": "display_data",
          "data": {
            "text/plain": [
              "<Figure size 432x288 with 1 Axes>"
            ],
            "image/png": "[encoded data removed]"
          },
          "metadata": {
            "needs_background": "light"
          }
        }
      ]
    },
    {
      "cell_type": "code",
      "source": [
        "# zad 5\n",
        "def cost_1(theta, X, y):\n",
        "  return (-y*np.log(h(X, theta))-(1-y)*np.log(1-h(X, theta))).sum()/y.shape[1] "
      ],
      "metadata": {
        "id": "TppSO30jJv7E"
      },
      "execution_count": 37,
      "outputs": []
    },
    {
      "cell_type": "code",
      "source": [
        "theta = np.zeros((X.shape[0], 1))"
      ],
      "metadata": {
        "id": "ZHCsPt4zMMSD"
      },
      "execution_count": 38,
      "outputs": []
    },
    {
      "cell_type": "code",
      "source": [
        "print(cost_1(theta, X, y))"
      ],
      "metadata": {
        "colab": {
          "base_uri": "https://localhost:8080/"
        },
        "id": "0MHQ05NyMOjk",
        "outputId": "f0e18972-4e28-4f40-c2a5-c4ade50db620"
      },
      "execution_count": 39,
      "outputs": [
        {
          "output_type": "stream",
          "name": "stdout",
          "text": [
            "0.6931471805599453\n"
          ]
        }
      ]
    },
    {
      "cell_type": "code",
      "source": [
        "def simple_gradient(X, y, theta, alpha, it):\n",
        "    cost = []\n",
        "    for i in range(it):\n",
        "        h = theta.T @ X\n",
        "        h_y = h - y\n",
        "        h_yxX = h_y @ X.T\n",
        "        theta = theta - alpha * h_yxX.T / X.shape[1]\n",
        "\n",
        "        cost += [cost_1(theta, X, y)]\n",
        "\n",
        "    return theta, cost"
      ],
      "metadata": {
        "id": "F-RMpXU4MfmM"
      },
      "execution_count": 40,
      "outputs": []
    },
    {
      "cell_type": "code",
      "source": [
        "theta, cost = simple_gradient(X, y, theta, 1, 150)\n",
        "theta"
      ],
      "metadata": {
        "colab": {
          "base_uri": "https://localhost:8080/"
        },
        "id": "qHrl0CM6Mp7d",
        "outputId": "eba917f8-72f4-45a0-a068-e39e3381ad16"
      },
      "execution_count": 41,
      "outputs": [
        {
          "output_type": "execute_result",
          "data": {
            "text/plain": [
              "array([[0.6       ],\n",
              "       [0.28732953],\n",
              "       [0.25778568]])"
            ]
          },
          "metadata": {},
          "execution_count": 41
        }
      ]
    },
    {
      "cell_type": "code",
      "source": [
        "theta = np.array([[1.69], [3.86], [3.6]]) # niestety nie jestem w stanie znaleść błędu, przeglądałem nie raz mój kod i porównywalem z kolegami\n",
        "# funkcje użylem podane w skrypcie, zastępuje tymi wartoscaimi thete tak abym mogl kontyuować laboratorium."
      ],
      "metadata": {
        "id": "pwrdCJCFBm6q"
      },
      "execution_count": 65,
      "outputs": []
    },
    {
      "cell_type": "code",
      "source": [
        "theta"
      ],
      "metadata": {
        "colab": {
          "base_uri": "https://localhost:8080/"
        },
        "id": "YGVKj0jXD5Q7",
        "outputId": "9f3066c4-c930-4677-a0ef-55810c96550a"
      },
      "execution_count": 66,
      "outputs": [
        {
          "output_type": "execute_result",
          "data": {
            "text/plain": [
              "array([[1.69],\n",
              "       [3.86],\n",
              "       [3.6 ]])"
            ]
          },
          "metadata": {},
          "execution_count": 66
        }
      ]
    },
    {
      "cell_type": "code",
      "source": [
        "x1 = np.arange(-2.0, 2.0, 0.1)\n",
        "x2 = -theta[0, 0]/theta[2, 0] - theta[1, 0]/theta[2, 0] * x1\n",
        "plt.figure(figsize=(12,5))\n",
        "plt.plot(x1, x2)\n",
        "X1_1 = X[1, y[0, :] == 1.0]\n",
        "X2_1 = X[2, y[0, :] == 1.0]\n",
        "X1_0 = X[1, y[0, :] == 0.0]\n",
        "X2_0 = X[2, y[0, :] == 0.0]\n",
        "plt.plot(X1_1, X2_1, 'o')\n",
        "plt.plot(X1_0, X2_0, 'x')\n",
        "plt.ylabel('Exam 2 score')\n",
        "plt.xlabel('Exam 1 score')\n",
        "admitted = mpatches.Patch(color='orange', label='Admitted')\n",
        "Nadmitted = mpatches.Patch(color='g', label='Not admitted')\n",
        "plt.legend(handles=[admitted, Nadmitted])\n",
        "plt.show()\n",
        "plt.show()"
      ],
      "metadata": {
        "colab": {
          "base_uri": "https://localhost:8080/",
          "height": 334
        },
        "id": "iiw_EzuFBffJ",
        "outputId": "27fe7461-cbb6-4bf3-aa6e-532de7327ff4"
      },
      "execution_count": 76,
      "outputs": [
        {
          "output_type": "display_data",
          "data": {
            "text/plain": [
              "<Figure size 864x360 with 1 Axes>"
            ],
            "image/png": "[encoded data removed]"
          },
          "metadata": {
            "needs_background": "light"
          }
        }
      ]
    },
    {
      "cell_type": "code",
      "source": [
        "import numpy as np\n",
        "import matplotlib.pyplot as plt\n",
        "from sklearn.linear_model import LogisticRegression\n",
        "from sklearn import datasets\n",
        " \n",
        "iris = datasets.load_iris()\n",
        "X = iris.data[:, :2]  # we are analyzing only 2 parameters\n",
        "Y = iris.target\n",
        "\n",
        "X = (X - X.mean()) / X.std() #normalizacja\n",
        "\n",
        "\n",
        "logreg = LogisticRegression(C=1, solver='newton-cg', multi_class='multinomial')\n",
        "logreg.fit(X, Y)\n",
        "\n",
        "# Plot the decision boundary. For that, we will assign a color to each\n",
        "# point in the mesh [x_min, x_max]x[y_min, y_max].\n",
        "x_min, x_max = X[:, 0].min() - .5, X[:, 0].max() + .5\n",
        "y_min, y_max = X[:, 1].min() - .5, X[:, 1].max() + .5\n",
        "h = .02  # step size in the mesh\n",
        "xx, yy = np.meshgrid(np.arange(x_min, x_max, h), np.arange(y_min, y_max, h))\n",
        "Z = logreg.predict(np.c_[xx.ravel(), yy.ravel()])\n",
        " \n",
        "# Put the result into a color plot\n",
        "Z = Z.reshape(xx.shape)\n",
        "plt.figure(1, figsize=(10, 6))\n",
        "plt.pcolormesh(xx, yy, Z, cmap=plt.cm.Paired)\n",
        " \n",
        "# Plot also the training points\n",
        "plt.scatter(X[:, 0], X[:, 1], c=Y, edgecolors='k', cmap=plt.cm.Paired)\n",
        "plt.xlabel('Sepal length')\n",
        "plt.ylabel('Sepal width')\n",
        " \n",
        "plt.xlim(xx.min(), xx.max())\n",
        "plt.ylim(yy.min(), yy.max())\n",
        "plt.xticks(())\n",
        "plt.yticks(())\n",
        " \n",
        "plt.show()"
      ],
      "metadata": {
        "colab": {
          "base_uri": "https://localhost:8080/",
          "height": 371
        },
        "id": "Vxem55qlGuJO",
        "outputId": "34acb705-74e5-4aa6-d3a2-1d7f56d69238"
      },
      "execution_count": 85,
      "outputs": [
        {
          "output_type": "display_data",
          "data": {
            "text/plain": [
              "<Figure size 720x432 with 1 Axes>"
            ],
            "image/png": "[encoded data removed]"
          },
          "metadata": {}
        }
      ]
    },
    {
      "cell_type": "code",
      "source": [
        "print(logreg.predict_proba(X))\n"
      ],
      "metadata": {
        "colab": {
          "base_uri": "https://localhost:8080/"
        },
        "id": "Cn8lUUm9PjPG",
        "outputId": "d3c37245-0487-4551-8de5-b6dedc89bf2f"
      },
      "execution_count": 87,
      "outputs": [
        {
          "output_type": "stream",
          "name": "stdout",
          "text": [
            "[[8.61733435e-01 9.95766923e-02 3.86898729e-02]\n",
            " [7.29400899e-01 2.25488051e-01 4.51110498e-02]\n",
            " [8.89587930e-01 9.34123283e-02 1.69997420e-02]\n",
            " [8.87589275e-01 9.79594258e-02 1.44512992e-02]\n",
            " [9.15496614e-01 6.16553167e-02 2.28480693e-02]\n",
            " [8.82809661e-01 6.54259903e-02 5.17643485e-02]\n",
            " [9.48629706e-01 4.32310872e-02 8.13920674e-03]\n",
            " [8.62288456e-01 1.04726405e-01 3.29851397e-02]\n",
            " [8.82037951e-01 1.07537317e-01 1.04247323e-02]\n",
            " [7.81153059e-01 1.79824334e-01 3.90226071e-02]\n",
            " [8.17310107e-01 1.09234526e-01 7.34553674e-02]\n",
            " [9.15321012e-01 6.80965268e-02 1.65824612e-02]\n",
            " [7.78503917e-01 1.88361437e-01 3.31346465e-02]\n",
            " [9.27965955e-01 6.59375802e-02 6.09646504e-03]\n",
            " [7.36250025e-01 1.08284880e-01 1.55465095e-01]\n",
            " [9.11370664e-01 3.22575836e-02 5.63717528e-02]\n",
            " [8.82809661e-01 6.54259903e-02 5.17643485e-02]\n",
            " [8.61733435e-01 9.95766923e-02 3.86898729e-02]\n",
            " [6.99142590e-01 1.45134961e-01 1.55722449e-01]\n",
            " [9.33380467e-01 4.45357442e-02 2.20837886e-02]\n",
            " [6.69244684e-01 2.16617100e-01 1.14138217e-01]\n",
            " [9.14605073e-01 5.86041710e-02 2.67907563e-02]\n",
            " [9.70056312e-01 2.45135693e-02 5.43011859e-03]\n",
            " [7.82958957e-01 1.63159956e-01 5.38810868e-02]\n",
            " [9.15321012e-01 6.80965268e-02 1.65824612e-02]\n",
            " [6.73465608e-01 2.66010456e-01 6.05239357e-02]\n",
            " [8.62288456e-01 1.04726405e-01 3.29851397e-02]\n",
            " [8.24481748e-01 1.21728381e-01 5.37898712e-02]\n",
            " [7.81836070e-01 1.55014176e-01 6.31497531e-02]\n",
            " [8.89587930e-01 9.34123283e-02 1.69997420e-02]\n",
            " [8.23350261e-01 1.48344314e-01 2.83054245e-02]\n",
            " [6.69244684e-01 2.16617100e-01 1.14138217e-01]\n",
            " [9.58505383e-01 2.41288076e-02 1.73658099e-02]\n",
            " [9.22509137e-01 3.60699220e-02 4.14209412e-02]\n",
            " [7.81153059e-01 1.79824334e-01 3.90226071e-02]\n",
            " [7.82682415e-01 1.71426923e-01 4.58906621e-02]\n",
            " [6.63073319e-01 2.04197532e-01 1.32729149e-01]\n",
            " [9.34680423e-01 4.92664071e-02 1.60531703e-02]\n",
            " [9.08814851e-01 8.25092090e-02 8.67594037e-03]\n",
            " [8.25925304e-01 1.28165295e-01 4.59094011e-02]\n",
            " [8.91792139e-01 8.06533380e-02 2.75545232e-02]\n",
            " [5.06209394e-01 4.62485014e-01 3.13055914e-02]\n",
            " [9.46457876e-01 4.76473188e-02 5.89480499e-03]\n",
            " [8.91792139e-01 8.06533380e-02 2.75545232e-02]\n",
            " [9.33380467e-01 4.45357442e-02 2.20837886e-02]\n",
            " [7.78503917e-01 1.88361437e-01 3.31346465e-02]\n",
            " [9.33380467e-01 4.45357442e-02 2.20837886e-02]\n",
            " [9.12962397e-01 7.50312462e-02 1.20063567e-02]\n",
            " [8.57299162e-01 8.96766574e-02 5.30241806e-02]\n",
            " [8.26134307e-01 1.34740823e-01 3.91248701e-02]\n",
            " [7.47769679e-03 2.20182210e-01 7.72340093e-01]\n",
            " [5.33630198e-02 3.61159045e-01 5.85477935e-01]\n",
            " [8.33695046e-03 2.58012333e-01 7.33650717e-01]\n",
            " [7.04778857e-02 7.46587634e-01 1.82934480e-01]\n",
            " [1.50199175e-02 4.22407241e-01 5.62572842e-01]\n",
            " [1.46114682e-01 5.78561186e-01 2.75324132e-01]\n",
            " [9.05536759e-02 3.57185007e-01 5.52261317e-01]\n",
            " [3.29399354e-01 5.97240810e-01 7.33598365e-02]\n",
            " [1.39433665e-02 3.73089116e-01 6.12967518e-01]\n",
            " [3.42267489e-01 5.34485309e-01 1.23247203e-01]\n",
            " [1.07591623e-01 8.10608029e-01 8.18003482e-02]\n",
            " [1.39272107e-01 4.99208354e-01 3.61519539e-01]\n",
            " [1.42331262e-02 6.89450947e-01 2.96315927e-01]\n",
            " [6.39233192e-02 5.02312545e-01 4.33764136e-01]\n",
            " [2.29613620e-01 5.29885607e-01 2.40500772e-01]\n",
            " [1.62247926e-02 3.07581568e-01 6.76193640e-01]\n",
            " [2.80545527e-01 4.82106415e-01 2.37348058e-01]\n",
            " [8.94144438e-02 6.07482932e-01 3.03102625e-01]\n",
            " [8.06213574e-03 6.37536816e-01 3.54401048e-01]\n",
            " [9.11912273e-02 6.84411346e-01 2.24397426e-01]\n",
            " [2.13623557e-01 4.24597087e-01 3.61779356e-01]\n",
            " [5.01162688e-02 5.28857117e-01 4.21026614e-01]\n",
            " [1.30921792e-02 5.46208435e-01 4.40699385e-01]\n",
            " [5.01162688e-02 5.28857117e-01 4.21026614e-01]\n",
            " [2.61708365e-02 4.28953732e-01 5.44875432e-01]\n",
            " [1.77199213e-02 3.53070808e-01 6.29209271e-01]\n",
            " [5.72802572e-03 3.36005901e-01 6.58266073e-01]\n",
            " [1.28113845e-02 3.26153567e-01 6.61035049e-01]\n",
            " [8.46023548e-02 5.20320710e-01 3.95076935e-01]\n",
            " [9.06704783e-02 6.47457367e-01 2.61872154e-01]\n",
            " [9.10344925e-02 7.18106710e-01 1.90858797e-01]\n",
            " [9.10344925e-02 7.18106710e-01 1.90858797e-01]\n",
            " [8.94144438e-02 6.07482932e-01 3.03102625e-01]\n",
            " [5.19510804e-02 5.76199764e-01 3.71849155e-01]\n",
            " [4.07608698e-01 4.29072729e-01 1.63318573e-01]\n",
            " [2.49145247e-01 3.50846129e-01 4.00008623e-01]\n",
            " [1.62247926e-02 3.07581568e-01 6.76193640e-01]\n",
            " [7.82274621e-03 5.88566493e-01 4.03610760e-01]\n",
            " [2.80545527e-01 4.82106415e-01 2.37348058e-01]\n",
            " [1.16720221e-01 6.85621134e-01 1.97658645e-01]\n",
            " [1.48324413e-01 6.48792495e-01 2.02883092e-01]\n",
            " [8.10864949e-02 4.74480446e-01 4.44433059e-01]\n",
            " [6.98299200e-02 6.37107710e-01 2.93062370e-01]\n",
            " [2.21649121e-01 6.89546738e-01 8.88041415e-02]\n",
            " [1.47772356e-01 6.14989226e-01 2.37238418e-01]\n",
            " [2.25987784e-01 4.96192928e-01 2.77819288e-01]\n",
            " [1.82796602e-01 5.38987435e-01 2.78215963e-01]\n",
            " [4.78458672e-02 4.80380295e-01 4.71773838e-01]\n",
            " [2.79022270e-01 6.14996689e-01 1.05981041e-01]\n",
            " [1.46114682e-01 5.78561186e-01 2.75324132e-01]\n",
            " [9.05536759e-02 3.57185007e-01 5.52261317e-01]\n",
            " [8.94144438e-02 6.07482932e-01 3.03102625e-01]\n",
            " [3.34571437e-03 2.26996475e-01 7.69657810e-01]\n",
            " [3.55161599e-02 4.55609532e-01 5.08874308e-01]\n",
            " [2.43717887e-02 3.80068065e-01 5.95560147e-01]\n",
            " [5.80597965e-04 1.34133109e-01 8.65286293e-01]\n",
            " [3.95251278e-01 5.33648264e-01 7.11004583e-02]\n",
            " [1.33137856e-03 1.98029011e-01 8.00639610e-01]\n",
            " [3.81298064e-03 4.23950592e-01 5.72236427e-01]\n",
            " [9.20728133e-03 1.36087494e-01 8.54705224e-01]\n",
            " [3.90774664e-02 3.37917390e-01 6.23005143e-01]\n",
            " [1.60075771e-02 4.73160281e-01 5.10832142e-01]\n",
            " [9.21626507e-03 2.99783048e-01 6.91000687e-01]\n",
            " [7.05962276e-02 6.76973518e-01 2.52430254e-01]\n",
            " [1.13671603e-01 5.75086892e-01 3.11241505e-01]\n",
            " [5.33630198e-02 3.61159045e-01 5.85477935e-01]\n",
            " [2.43717887e-02 3.80068065e-01 5.95560147e-01]\n",
            " [2.37377249e-03 6.62470121e-02 9.31379215e-01]\n",
            " [1.65323836e-04 1.58709040e-01 8.41125636e-01]\n",
            " [1.42331262e-02 6.89450947e-01 2.96315927e-01]\n",
            " [1.05124478e-02 2.42265840e-01 7.47221712e-01]\n",
            " [1.85329227e-01 5.74345613e-01 2.40325160e-01]\n",
            " [2.59560289e-04 1.38170271e-01 8.61570169e-01]\n",
            " [2.16940505e-02 5.01876982e-01 4.76428968e-01]\n",
            " [2.58379549e-02 2.71612314e-01 7.02549731e-01]\n",
            " [3.74312113e-03 1.79928661e-01 8.16328218e-01]\n",
            " [3.74665841e-02 5.05160948e-01 4.57372468e-01]\n",
            " [8.10864949e-02 4.74480446e-01 4.44433059e-01]\n",
            " [2.04972917e-02 4.51163796e-01 5.28338912e-01]\n",
            " [2.36987895e-03 2.05438796e-01 7.92191325e-01]\n",
            " [7.47350385e-04 1.90731527e-01 8.08521123e-01]\n",
            " [1.14281642e-03 5.20661862e-02 9.46790997e-01]\n",
            " [2.04972917e-02 4.51163796e-01 5.28338912e-01]\n",
            " [2.78042302e-02 4.78985747e-01 4.93210022e-01]\n",
            " [3.03885375e-02 5.78308072e-01 3.91303390e-01]\n",
            " [4.06209222e-04 1.19904728e-01 8.79689063e-01]\n",
            " [1.12824216e-01 3.31393926e-01 5.55781859e-01]\n",
            " [4.22438802e-02 3.83943055e-01 5.73813065e-01]\n",
            " [1.06932509e-01 4.89726384e-01 4.03341107e-01]\n",
            " [8.33695046e-03 2.58012333e-01 7.33650717e-01]\n",
            " [1.62247926e-02 3.07581568e-01 6.76193640e-01]\n",
            " [8.33695046e-03 2.58012333e-01 7.33650717e-01]\n",
            " [8.94144438e-02 6.07482932e-01 3.03102625e-01]\n",
            " [1.47160818e-02 2.65432732e-01 7.19851187e-01]\n",
            " [2.58379549e-02 2.71612314e-01 7.02549731e-01]\n",
            " [1.28113845e-02 3.26153567e-01 6.61035049e-01]\n",
            " [1.30921792e-02 5.46208435e-01 4.40699385e-01]\n",
            " [2.43717887e-02 3.80068065e-01 5.95560147e-01]\n",
            " [1.49500610e-01 3.43683863e-01 5.06815527e-01]\n",
            " [1.39272107e-01 4.99208354e-01 3.61519539e-01]]\n"
          ]
        }
      ]
    },
    {
      "cell_type": "code",
      "source": [
        "from sklearn.metrics import accuracy_score\n",
        "\n",
        "predic = logreg.predict(X)\n",
        "output = accuracy_score(Y, predic)\n",
        "print(Y)\n",
        "print(predic)\n",
        "print(output)"
      ],
      "metadata": {
        "colab": {
          "base_uri": "https://localhost:8080/"
        },
        "id": "nYSiI1y3Pt1F",
        "outputId": "cad3b21b-9eea-4c9c-93b5-1b16df3f201d"
      },
      "execution_count": 90,
      "outputs": [
        {
          "output_type": "stream",
          "name": "stdout",
          "text": [
            "[0 0 0 0 0 0 0 0 0 0 0 0 0 0 0 0 0 0 0 0 0 0 0 0 0 0 0 0 0 0 0 0 0 0 0 0 0\n",
            " 0 0 0 0 0 0 0 0 0 0 0 0 0 1 1 1 1 1 1 1 1 1 1 1 1 1 1 1 1 1 1 1 1 1 1 1 1\n",
            " 1 1 1 1 1 1 1 1 1 1 1 1 1 1 1 1 1 1 1 1 1 1 1 1 1 1 2 2 2 2 2 2 2 2 2 2 2\n",
            " 2 2 2 2 2 2 2 2 2 2 2 2 2 2 2 2 2 2 2 2 2 2 2 2 2 2 2 2 2 2 2 2 2 2 2 2 2\n",
            " 2 2]\n",
            "[0 0 0 0 0 0 0 0 0 0 0 0 0 0 0 0 0 0 0 0 0 0 0 0 0 0 0 0 0 0 0 0 0 0 0 0 0\n",
            " 0 0 0 0 0 0 0 0 0 0 0 0 0 2 2 2 1 2 1 2 1 2 1 1 1 1 1 1 2 1 1 1 1 1 1 1 1\n",
            " 2 2 2 2 1 1 1 1 1 1 1 2 2 1 1 1 1 1 1 1 1 1 1 1 1 1 2 1 2 2 2 2 1 2 2 2 2\n",
            " 2 2 1 1 2 2 2 2 1 2 1 2 1 2 2 1 1 2 2 2 2 2 2 1 2 2 2 1 2 2 2 1 2 2 2 1 2\n",
            " 2 1]\n",
            "0.82\n"
          ]
        }
      ]
    }
  ]
}